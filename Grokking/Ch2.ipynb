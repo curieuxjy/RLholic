{
 "cells": [
  {
   "cell_type": "markdown",
   "id": "5c138686-772b-4365-8a7e-c4dbc2543537",
   "metadata": {},
   "source": [
    "환경 설정\n",
    "```\n",
    "!pip install tqdm numpy scikit-learn pyglet setuptools && \\\n",
    "!pip install gym asciinema pandas tabulate tornado==5.* PyBullet && \\\n",
    "!pip install git+https://github.com/pybox2d/pybox2d#egg=Box2D && \\\n",
    "!pip install git+https://github.com/mimoralea/gym-bandits#egg=gym-bandits && \\\n",
    "!pip install git+https://github.com/mimoralea/gym-walk#egg=gym-walk && \\\n",
    "!pip install git+https://github.com/mimoralea/gym-aima#egg=gym-aima && \\\n",
    "!pip install gym[atari]\n",
    "```"
   ]
  },
  {
   "cell_type": "markdown",
   "id": "c750c91a-8701-40a5-9c57-fb9b62c45758",
   "metadata": {},
   "source": [
    "# Recap Point\n",
    "- MDP를 튜플-딕셔너리로 표현하고 해석 가능한지"
   ]
  },
  {
   "cell_type": "markdown",
   "id": "974661ad-1e9b-4c45-9641-64d2f0bc3659",
   "metadata": {},
   "source": [
    "# BanditWalk Env\n",
    "Transition tuple: (transition probability, next state, reward, done)"
   ]
  },
  {
   "cell_type": "code",
   "execution_count": 1,
   "id": "48fedb72-7ce1-4a5d-8336-ec98c14e2369",
   "metadata": {},
   "outputs": [],
   "source": [
    "P = {\n",
    "    0: {\n",
    "        0: [(1.0, 0, 0.0, True)],\n",
    "        1: [(1.0, 0, 0.0, True)]\n",
    "    },\n",
    "    1: {\n",
    "        0: [(1.0, 0, 0.0, True)],\n",
    "        1: [(1.0, 2, 1.0, True)],\n",
    "    },\n",
    "    2: {\n",
    "        0: [(1.0, 2, 0.0, True)],\n",
    "        1: [(1.0, 2, 0.0, True)]\n",
    "    }\n",
    "}"
   ]
  },
  {
   "cell_type": "markdown",
   "id": "8c9b55c0-edc6-4f5b-b490-a685a4d61e91",
   "metadata": {},
   "source": [
    "Or using gym module"
   ]
  },
  {
   "cell_type": "code",
   "execution_count": 2,
   "id": "7866302a-a21f-4651-a7a4-69aa57429d4b",
   "metadata": {},
   "outputs": [],
   "source": [
    "import gym, gym_walk\n",
    "P = gym.make('BanditWalk-v0').env.P"
   ]
  },
  {
   "cell_type": "code",
   "execution_count": 3,
   "id": "ec3d9ccb-ca22-4862-88a5-94c931b99f8e",
   "metadata": {},
   "outputs": [
    {
     "data": {
      "text/plain": [
       "{0: {0: [(1.0, 0, 0.0, True), (0.0, 0, 0.0, True), (0.0, 0, 0.0, True)],\n",
       "  1: [(1.0, 0, 0.0, True), (0.0, 0, 0.0, True), (0.0, 0, 0.0, True)]},\n",
       " 1: {0: [(1.0, 0, 0.0, True), (0.0, 1, 0.0, False), (0.0, 2, 1.0, True)],\n",
       "  1: [(1.0, 2, 1.0, True), (0.0, 1, 0.0, False), (0.0, 0, 0.0, True)]},\n",
       " 2: {0: [(1.0, 2, 0.0, True), (0.0, 2, 0.0, True), (0.0, 2, 0.0, True)],\n",
       "  1: [(1.0, 2, 0.0, True), (0.0, 2, 0.0, True), (0.0, 2, 0.0, True)]}}"
      ]
     },
     "execution_count": 3,
     "metadata": {},
     "output_type": "execute_result"
    }
   ],
   "source": [
    "P"
   ]
  },
  {
   "cell_type": "markdown",
   "id": "d995445e-b03c-4db8-935a-22c30bbbb63b",
   "metadata": {},
   "source": [
    "# BanditSlipperyWalk Env"
   ]
  },
  {
   "cell_type": "code",
   "execution_count": 4,
   "id": "d0c0c48a-2069-43a0-9098-2e2e9be5208b",
   "metadata": {},
   "outputs": [],
   "source": [
    "P = {\n",
    "    0: {\n",
    "        0: [(1.0, 0, 0.0, True)],\n",
    "        1: [(1.0, 0, 0.0, True)]\n",
    "    },\n",
    "    1: {\n",
    "        0: [(0.8, 0, 0.0, True), (0.2, 2, 1.0, True)],\n",
    "        1: [(0.8, 2, 1.0, True), (0.2, 0, 0.0, True)]\n",
    "    },\n",
    "    2: {\n",
    "        0: [(1.0, 2, 0.0, True)],\n",
    "        1: [(1.0, 2, 0.0, True)]\n",
    "    }\n",
    "}"
   ]
  },
  {
   "cell_type": "code",
   "execution_count": 5,
   "id": "7302aa9a-7a3f-4cff-9373-e9bf52536776",
   "metadata": {},
   "outputs": [],
   "source": [
    "P = gym.make('BanditSlipperyWalk-v0').env.P"
   ]
  },
  {
   "cell_type": "code",
   "execution_count": 6,
   "id": "5566eba7-b0dc-4d11-a1bd-4effaf89483f",
   "metadata": {},
   "outputs": [
    {
     "data": {
      "text/plain": [
       "{0: {0: [(0.8, 0, 0.0, True), (0.0, 0, 0.0, True), (0.2, 0, 0.0, True)],\n",
       "  1: [(0.8, 0, 0.0, True), (0.0, 0, 0.0, True), (0.2, 0, 0.0, True)]},\n",
       " 1: {0: [(0.8, 0, 0.0, True), (0.0, 1, 0.0, False), (0.2, 2, 1.0, True)],\n",
       "  1: [(0.8, 2, 1.0, True), (0.0, 1, 0.0, False), (0.2, 0, 0.0, True)]},\n",
       " 2: {0: [(0.8, 2, 0.0, True), (0.0, 2, 0.0, True), (0.2, 2, 0.0, True)],\n",
       "  1: [(0.8, 2, 0.0, True), (0.0, 2, 0.0, True), (0.2, 2, 0.0, True)]}}"
      ]
     },
     "execution_count": 6,
     "metadata": {},
     "output_type": "execute_result"
    }
   ],
   "source": [
    "P"
   ]
  },
  {
   "cell_type": "markdown",
   "id": "c5a01ea8-40e6-4676-8238-dae45cf84d2d",
   "metadata": {},
   "source": [
    "# Walk Tree"
   ]
  },
  {
   "cell_type": "code",
   "execution_count": 7,
   "id": "32656bf4-07d9-4d9a-82e4-50c12ebaed86",
   "metadata": {},
   "outputs": [
    {
     "data": {
      "text/plain": [
       "{0: {0: [(1.0, 0, 0.0, True)], 1: [(1.0, 0, 0.0, True)]},\n",
       " 1: {0: [(1.0, 0, 0.0, True)], 1: [(1.0, 2, 0.0, False)]},\n",
       " 2: {0: [(1.0, 1, 0.0, False)], 1: [(1.0, 3, 0.0, False)]},\n",
       " 3: {0: [(1.0, 2, 0.0, False)], 1: [(1.0, 4, 1.0, True)]},\n",
       " 4: {0: [(1.0, 4, 0.0, True)], 1: [(1.0, 4, 0.0, True)]}}"
      ]
     },
     "execution_count": 7,
     "metadata": {},
     "output_type": "execute_result"
    }
   ],
   "source": [
    "P = {\n",
    "    0: {\n",
    "        0: [(1.0, 0, 0.0, True)],\n",
    "        1: [(1.0, 0, 0.0, True)]\n",
    "    },\n",
    "    1: {\n",
    "        0: [(1.0, 0, 0.0, True)],\n",
    "        1: [(1.0, 2, 0.0, False)],\n",
    "    },\n",
    "    2: {\n",
    "        0: [(1.0, 1, 0.0, False)],\n",
    "        1: [(1.0, 3, 0.0, False)]\n",
    "    },\n",
    "    3: {\n",
    "        0: [(1.0, 2, 0.0, False)],\n",
    "        1: [(1.0, 4, 1.0, True)]\n",
    "    },\n",
    "    4: {\n",
    "        0: [(1.0, 4, 0.0, True)],\n",
    "        1: [(1.0, 4, 0.0, True)]\n",
    "    }\n",
    "}\n",
    "\n",
    "P"
   ]
  },
  {
   "cell_type": "code",
   "execution_count": 8,
   "id": "d532bdb6-9926-4487-ae27-0acc69e0de19",
   "metadata": {},
   "outputs": [
    {
     "data": {
      "text/plain": [
       "{0: {0: [(1.0, 0, 0.0, True), (0.0, 0, 0.0, True), (0.0, 0, 0.0, True)],\n",
       "  1: [(1.0, 0, 0.0, True), (0.0, 0, 0.0, True), (0.0, 0, 0.0, True)]},\n",
       " 1: {0: [(1.0, 0, 0.0, True), (0.0, 1, 0.0, False), (0.0, 2, 0.0, False)],\n",
       "  1: [(1.0, 2, 0.0, False), (0.0, 1, 0.0, False), (0.0, 0, 0.0, True)]},\n",
       " 2: {0: [(1.0, 1, 0.0, False), (0.0, 2, 0.0, False), (0.0, 3, 0.0, False)],\n",
       "  1: [(1.0, 3, 0.0, False), (0.0, 2, 0.0, False), (0.0, 1, 0.0, False)]},\n",
       " 3: {0: [(1.0, 2, 0.0, False), (0.0, 3, 0.0, False), (0.0, 4, 1.0, True)],\n",
       "  1: [(1.0, 4, 1.0, True), (0.0, 3, 0.0, False), (0.0, 2, 0.0, False)]},\n",
       " 4: {0: [(1.0, 4, 0.0, True), (0.0, 4, 0.0, True), (0.0, 4, 0.0, True)],\n",
       "  1: [(1.0, 4, 0.0, True), (0.0, 4, 0.0, True), (0.0, 4, 0.0, True)]}}"
      ]
     },
     "execution_count": 8,
     "metadata": {},
     "output_type": "execute_result"
    }
   ],
   "source": [
    "P = gym.make('WalkThree-v0').env.P\n",
    "P"
   ]
  },
  {
   "cell_type": "markdown",
   "id": "686dba0d-cd6e-4ea6-b020-e36e1a464dca",
   "metadata": {},
   "source": [
    "# Slippery Walk Tree"
   ]
  },
  {
   "cell_type": "code",
   "execution_count": 9,
   "id": "24808a68-7a85-4317-8606-170ef1e17494",
   "metadata": {},
   "outputs": [
    {
     "data": {
      "text/plain": [
       "{0: {0: [(1.0, 0, 0.0, True)], 1: [(1.0, 0, 0.0, True)]},\n",
       " 1: {0: [(0.5000000000000001, 0, 0.0, True),\n",
       "   (0.3333333333333333, 1, 0.0, False),\n",
       "   (0.16666666666666666, 2, 0.0, False)],\n",
       "  1: [(0.5000000000000001, 2, 0.0, False),\n",
       "   (0.3333333333333333, 1, 0.0, False),\n",
       "   (0.16666666666666666, 0, 0.0, True)]},\n",
       " 2: {0: [(0.5000000000000001, 1, 0.0, False),\n",
       "   (0.3333333333333333, 2, 0.0, False),\n",
       "   (0.16666666666666666, 3, 0.0, False)],\n",
       "  1: [(0.5000000000000001, 3, 0.0, False),\n",
       "   (0.3333333333333333, 2, 0.0, False),\n",
       "   (0.16666666666666666, 1, 0.0, False)]},\n",
       " 3: {0: [(0.5000000000000001, 2, 0.0, False),\n",
       "   (0.3333333333333333, 3, 0.0, False),\n",
       "   (0.16666666666666666, 4, 1.0, True)],\n",
       "  1: [(0.5000000000000001, 4, 1.0, True),\n",
       "   (0.3333333333333333, 3, 0.0, False),\n",
       "   (0.16666666666666666, 2, 0.0, False)]},\n",
       " 4: {0: [(1.0, 4, 0.0, True)], 1: [(1.0, 4, 0.0, True)]}}"
      ]
     },
     "execution_count": 9,
     "metadata": {},
     "output_type": "execute_result"
    }
   ],
   "source": [
    "P = {\n",
    "    0: {\n",
    "        0: [(1.0, 0, 0.0, True)],\n",
    "        1: [(1.0, 0, 0.0, True)]\n",
    "    },\n",
    "    1: {\n",
    "        0: [(0.5000000000000001, 0, 0.0, True),\n",
    "            (0.3333333333333333, 1, 0.0, False),\n",
    "            (0.16666666666666666, 2, 0.0, False)\n",
    "        ],\n",
    "        1: [(0.5000000000000001, 2, 0.0, False),\n",
    "            (0.3333333333333333, 1, 0.0, False),\n",
    "            (0.16666666666666666, 0, 0.0, True)\n",
    "        ]\n",
    "    },\n",
    "    2: {\n",
    "        0: [(0.5000000000000001, 1, 0.0, False),\n",
    "            (0.3333333333333333, 2, 0.0, False),\n",
    "            (0.16666666666666666, 3, 0.0, False)\n",
    "        ],\n",
    "        1: [(0.5000000000000001, 3, 0.0, False),\n",
    "            (0.3333333333333333, 2, 0.0, False),\n",
    "            (0.16666666666666666, 1, 0.0, False)\n",
    "        ]\n",
    "    },\n",
    "    3: {\n",
    "        0: [(0.5000000000000001, 2, 0.0, False),\n",
    "            (0.3333333333333333, 3, 0.0, False),\n",
    "            (0.16666666666666666, 4, 1.0, True)\n",
    "        ],\n",
    "        1: [(0.5000000000000001, 4, 1.0, True),\n",
    "            (0.3333333333333333, 3, 0.0, False),\n",
    "            (0.16666666666666666, 2, 0.0, False)\n",
    "        ]\n",
    "    },\n",
    "    4: {\n",
    "        0: [(1.0, 4, 0.0, True)],\n",
    "        1: [(1.0, 4, 0.0, True)]\n",
    "    }\n",
    "}\n",
    "\n",
    "P"
   ]
  },
  {
   "cell_type": "code",
   "execution_count": 10,
   "id": "4189a5ae-9446-4e4a-98a0-cdb08f3bb6a2",
   "metadata": {},
   "outputs": [
    {
     "data": {
      "text/plain": [
       "{0: {0: [(0.5000000000000001, 0, 0.0, True),\n",
       "   (0.3333333333333333, 0, 0.0, True),\n",
       "   (0.16666666666666666, 0, 0.0, True)],\n",
       "  1: [(0.5000000000000001, 0, 0.0, True),\n",
       "   (0.3333333333333333, 0, 0.0, True),\n",
       "   (0.16666666666666666, 0, 0.0, True)]},\n",
       " 1: {0: [(0.5000000000000001, 0, 0.0, True),\n",
       "   (0.3333333333333333, 1, 0.0, False),\n",
       "   (0.16666666666666666, 2, 0.0, False)],\n",
       "  1: [(0.5000000000000001, 2, 0.0, False),\n",
       "   (0.3333333333333333, 1, 0.0, False),\n",
       "   (0.16666666666666666, 0, 0.0, True)]},\n",
       " 2: {0: [(0.5000000000000001, 1, 0.0, False),\n",
       "   (0.3333333333333333, 2, 0.0, False),\n",
       "   (0.16666666666666666, 3, 0.0, False)],\n",
       "  1: [(0.5000000000000001, 3, 0.0, False),\n",
       "   (0.3333333333333333, 2, 0.0, False),\n",
       "   (0.16666666666666666, 1, 0.0, False)]},\n",
       " 3: {0: [(0.5000000000000001, 2, 0.0, False),\n",
       "   (0.3333333333333333, 3, 0.0, False),\n",
       "   (0.16666666666666666, 4, 1.0, True)],\n",
       "  1: [(0.5000000000000001, 4, 1.0, True),\n",
       "   (0.3333333333333333, 3, 0.0, False),\n",
       "   (0.16666666666666666, 2, 0.0, False)]},\n",
       " 4: {0: [(0.5000000000000001, 4, 0.0, True),\n",
       "   (0.3333333333333333, 4, 0.0, True),\n",
       "   (0.16666666666666666, 4, 0.0, True)],\n",
       "  1: [(0.5000000000000001, 4, 0.0, True),\n",
       "   (0.3333333333333333, 4, 0.0, True),\n",
       "   (0.16666666666666666, 4, 0.0, True)]}}"
      ]
     },
     "execution_count": 10,
     "metadata": {},
     "output_type": "execute_result"
    }
   ],
   "source": [
    "P = gym.make('SlipperyWalkThree-v0').env.P\n",
    "P"
   ]
  },
  {
   "cell_type": "markdown",
   "id": "0c4bc6ea-774c-4985-a16c-136b85e9c0ff",
   "metadata": {},
   "source": [
    "# Random Walk"
   ]
  },
  {
   "cell_type": "code",
   "execution_count": 11,
   "id": "0707102d-d842-4f02-9fe0-3fc54473fb46",
   "metadata": {},
   "outputs": [
    {
     "data": {
      "text/plain": [
       "{0: {0: [(1.0, 0, 0.0, True)], 1: [(1.0, 0, 0.0, True)]},\n",
       " 1: {0: [(0.5, 0, 0.0, True), (0.5, 2, 0.0, False)],\n",
       "  1: [(0.5, 2, 0.0, False), (0.5, 0, 0.0, True)]},\n",
       " 2: {0: [(0.5, 1, 0.0, False), (0.5, 3, 0.0, False)],\n",
       "  1: [(0.5, 3, 0.0, False), (0.5, 1, 0.0, False)]},\n",
       " 3: {0: [(0.5, 2, 0.0, False), (0.5, 4, 0.0, False)],\n",
       "  1: [(0.5, 4, 0.0, False), (0.5, 2, 0.0, False)]},\n",
       " 4: {0: [(0.5, 3, 0.0, False), (0.5, 5, 0.0, False)],\n",
       "  1: [(0.5, 5, 0.0, False), (0.5, 3, 0.0, False)]},\n",
       " 5: {0: [(0.5, 4, 0.0, False), (0.5, 6, 1.0, True)],\n",
       "  1: [(0.5, 6, 1.0, True), (0.5, 4, 0.0, False)]},\n",
       " 6: {0: [(1.0, 6, 0.0, True)], 1: [(1.0, 6, 0.0, True)]}}"
      ]
     },
     "execution_count": 11,
     "metadata": {},
     "output_type": "execute_result"
    }
   ],
   "source": [
    "P = {\n",
    "    0: {\n",
    "        0: [(1.0, 0, 0.0, True)],\n",
    "        1: [(1.0, 0, 0.0, True)]\n",
    "    },\n",
    "    1: {\n",
    "        0: [(0.5, 0, 0.0, True), (0.5, 2, 0.0, False)],\n",
    "        1: [(0.5, 2, 0.0, False), (0.5, 0, 0.0, True)]\n",
    "    },\n",
    "    2: {\n",
    "        0: [(0.5, 1, 0.0, False), (0.5, 3, 0.0, False)],\n",
    "        1: [(0.5, 3, 0.0, False), (0.5, 1, 0.0, False)]\n",
    "    },\n",
    "    3: {\n",
    "        0: [(0.5, 2, 0.0, False), (0.5, 4, 0.0, False)],\n",
    "        1: [(0.5, 4, 0.0, False), (0.5, 2, 0.0, False)]\n",
    "    },\n",
    "    4: {\n",
    "        0: [(0.5, 3, 0.0, False), (0.5, 5, 0.0, False)],\n",
    "        1: [(0.5, 5, 0.0, False), (0.5, 3, 0.0, False)]\n",
    "    },\n",
    "    5: {\n",
    "        0: [(0.5, 4, 0.0, False), (0.5, 6, 1.0, True)],\n",
    "        1: [(0.5, 6, 1.0, True), (0.5, 4, 0.0, False)]\n",
    "    },\n",
    "    6: {\n",
    "        0: [(1.0, 6, 0.0, True)],\n",
    "        1: [(1.0, 6, 0.0, True)]\n",
    "    }\n",
    "}\n",
    "\n",
    "P"
   ]
  },
  {
   "cell_type": "code",
   "execution_count": 12,
   "id": "9adff400-6301-4a38-b3ae-bb17279efc7e",
   "metadata": {},
   "outputs": [
    {
     "data": {
      "text/plain": [
       "{0: {0: [(0.5, 0, 0.0, True), (0.0, 0, 0.0, True), (0.5, 0, 0.0, True)],\n",
       "  1: [(0.5, 0, 0.0, True), (0.0, 0, 0.0, True), (0.5, 0, 0.0, True)]},\n",
       " 1: {0: [(0.5, 0, 0.0, True), (0.0, 1, 0.0, False), (0.5, 2, 0.0, False)],\n",
       "  1: [(0.5, 2, 0.0, False), (0.0, 1, 0.0, False), (0.5, 0, 0.0, True)]},\n",
       " 2: {0: [(0.5, 1, 0.0, False), (0.0, 2, 0.0, False), (0.5, 3, 0.0, False)],\n",
       "  1: [(0.5, 3, 0.0, False), (0.0, 2, 0.0, False), (0.5, 1, 0.0, False)]},\n",
       " 3: {0: [(0.5, 2, 0.0, False), (0.0, 3, 0.0, False), (0.5, 4, 0.0, False)],\n",
       "  1: [(0.5, 4, 0.0, False), (0.0, 3, 0.0, False), (0.5, 2, 0.0, False)]},\n",
       " 4: {0: [(0.5, 3, 0.0, False), (0.0, 4, 0.0, False), (0.5, 5, 0.0, False)],\n",
       "  1: [(0.5, 5, 0.0, False), (0.0, 4, 0.0, False), (0.5, 3, 0.0, False)]},\n",
       " 5: {0: [(0.5, 4, 0.0, False), (0.0, 5, 0.0, False), (0.5, 6, 1.0, True)],\n",
       "  1: [(0.5, 6, 1.0, True), (0.0, 5, 0.0, False), (0.5, 4, 0.0, False)]},\n",
       " 6: {0: [(0.5, 6, 0.0, True), (0.0, 6, 0.0, True), (0.5, 6, 0.0, True)],\n",
       "  1: [(0.5, 6, 0.0, True), (0.0, 6, 0.0, True), (0.5, 6, 0.0, True)]}}"
      ]
     },
     "execution_count": 12,
     "metadata": {},
     "output_type": "execute_result"
    }
   ],
   "source": [
    "P = gym.make('RandomWalk-v0').env.P\n",
    "P"
   ]
  },
  {
   "cell_type": "markdown",
   "id": "b1c54dfb-b3c5-414e-a4a7-580cde9bd1ba",
   "metadata": {},
   "source": [
    "# GridWorld \n",
    "\n",
    "(Russll and Norvig의 Artificial Intelligence - Modern Approach책 참고)"
   ]
  },
  {
   "cell_type": "code",
   "execution_count": 13,
   "id": "a1eed3b4-1ddc-4256-a67d-6a902d56bc37",
   "metadata": {},
   "outputs": [
    {
     "data": {
      "text/plain": [
       "{0: {0: [(0.9, 0, -0.04, False), (0.1, 4, -0.04, False)],\n",
       "  1: [(0.1, 0, -0.04, False), (0.8, 4, -0.04, False), (0.1, 1, -0.04, False)],\n",
       "  2: [(0.1, 4, -0.04, False), (0.8, 1, -0.04, False), (0.1, 0, -0.04, False)],\n",
       "  3: [(0.1, 1, -0.04, False), (0.8, 0, -0.04, False), (0.1, 0, -0.04, False)]},\n",
       " 1: {0: [(0.2, 1, -0.04, False), (0.8, 0, -0.04, False)],\n",
       "  1: [(0.1, 0, -0.04, False), (0.8, 1, -0.04, False), (0.1, 2, -0.04, False)],\n",
       "  2: [(0.1, 1, -0.04, False), (0.8, 2, -0.04, False), (0.1, 1, -0.04, False)],\n",
       "  3: [(0.1, 2, -0.04, False), (0.8, 1, -0.04, False), (0.1, 0, -0.04, False)]},\n",
       " 2: {0: [(0.1, 2, -0.04, False),\n",
       "   (0.8, 1, -0.04, False),\n",
       "   (0.1, 6, -0.04, False)],\n",
       "  1: [(0.1, 1, -0.04, False), (0.8, 6, -0.04, False), (0.1, 3, 0.96, True)],\n",
       "  2: [(0.1, 6, -0.04, False), (0.8, 3, 0.96, True), (0.1, 2, -0.04, False)],\n",
       "  3: [(0.1, 3, 0.96, True), (0.8, 2, -0.04, False), (0.1, 1, -0.04, False)]},\n",
       " 3: {0: [(1.0, 3, 0, True)],\n",
       "  1: [(1.0, 3, 0, True)],\n",
       "  2: [(1.0, 3, 0, True)],\n",
       "  3: [(1.0, 3, 0, True)]},\n",
       " 4: {0: [(0.1, 0, -0.04, False),\n",
       "   (0.8, 4, -0.04, False),\n",
       "   (0.1, 8, -0.04, False)],\n",
       "  1: [(0.2, 4, -0.04, False), (0.8, 8, -0.04, False)],\n",
       "  2: [(0.1, 8, -0.04, False), (0.8, 4, -0.04, False), (0.1, 0, -0.04, False)],\n",
       "  3: [(0.2, 4, -0.04, False), (0.8, 0, -0.04, False)]},\n",
       " 5: {0: [(1.0, 5, 0, True)],\n",
       "  1: [(1.0, 5, 0, True)],\n",
       "  2: [(1.0, 5, 0, True)],\n",
       "  3: [(1.0, 5, 0, True)]},\n",
       " 6: {0: [(0.1, 2, -0.04, False),\n",
       "   (0.8, 6, -0.04, False),\n",
       "   (0.1, 10, -0.04, False)],\n",
       "  1: [(0.1, 6, -0.04, False), (0.8, 10, -0.04, False), (0.1, 7, -1.04, True)],\n",
       "  2: [(0.1, 10, -0.04, False), (0.8, 7, -1.04, True), (0.1, 2, -0.04, False)],\n",
       "  3: [(0.1, 7, -1.04, True), (0.8, 2, -0.04, False), (0.1, 6, -0.04, False)]},\n",
       " 7: {0: [(1.0, 7, 0, True)],\n",
       "  1: [(1.0, 7, 0, True)],\n",
       "  2: [(1.0, 7, 0, True)],\n",
       "  3: [(1.0, 7, 0, True)]},\n",
       " 8: {0: [(0.1, 4, -0.04, False), (0.9, 8, -0.04, False)],\n",
       "  1: [(0.9, 8, -0.04, False), (0.1, 9, -0.04, False)],\n",
       "  2: [(0.1, 8, -0.04, False), (0.8, 9, -0.04, False), (0.1, 4, -0.04, False)],\n",
       "  3: [(0.1, 9, -0.04, False), (0.8, 4, -0.04, False), (0.1, 8, -0.04, False)]},\n",
       " 9: {0: [(0.2, 9, -0.04, False), (0.8, 8, -0.04, False)],\n",
       "  1: [(0.1, 8, -0.04, False), (0.8, 9, -0.04, False), (0.1, 10, -0.04, False)],\n",
       "  2: [(0.2, 9, -0.04, False), (0.8, 10, -0.04, False)],\n",
       "  3: [(0.1, 10, -0.04, False),\n",
       "   (0.8, 9, -0.04, False),\n",
       "   (0.1, 8, -0.04, False)]},\n",
       " 10: {0: [(0.1, 6, -0.04, False),\n",
       "   (0.8, 9, -0.04, False),\n",
       "   (0.1, 10, -0.04, False)],\n",
       "  1: [(0.1, 9, -0.04, False),\n",
       "   (0.8, 10, -0.04, False),\n",
       "   (0.1, 11, -0.04, False)],\n",
       "  2: [(0.1, 10, -0.04, False),\n",
       "   (0.8, 11, -0.04, False),\n",
       "   (0.1, 6, -0.04, False)],\n",
       "  3: [(0.1, 11, -0.04, False),\n",
       "   (0.8, 6, -0.04, False),\n",
       "   (0.1, 9, -0.04, False)]},\n",
       " 11: {0: [(0.1, 7, -1.04, True),\n",
       "   (0.8, 10, -0.04, False),\n",
       "   (0.1, 11, -0.04, False)],\n",
       "  1: [(0.1, 10, -0.04, False), (0.9, 11, -0.04, False)],\n",
       "  2: [(0.9, 11, -0.04, False), (0.1, 7, -1.04, True)],\n",
       "  3: [(0.1, 11, -0.04, False),\n",
       "   (0.8, 7, -1.04, True),\n",
       "   (0.1, 10, -0.04, False)]}}"
      ]
     },
     "execution_count": 13,
     "metadata": {},
     "output_type": "execute_result"
    }
   ],
   "source": [
    "P = {\n",
    "    0: {\n",
    "        0: [(0.9, 0, -0.04, False),\n",
    "            (0.1, 4, -0.04, False)\n",
    "        ],\n",
    "        1: [(0.1, 0, -0.04, False), (0.8, 4, -0.04, False), (0.1, 1, -0.04, False)],\n",
    "        2: [(0.1, 4, -0.04, False), (0.8, 1, -0.04, False), (0.1, 0, -0.04, False)],\n",
    "        3: [(0.1, 1, -0.04, False), (0.8, 0, -0.04, False), (0.1, 0, -0.04, False)]\n",
    "    },\n",
    "    1: {\n",
    "        0: [(0.2, 1, -0.04, False),\n",
    "            (0.8, 0, -0.04, False)\n",
    "        ],\n",
    "        1: [(0.1, 0, -0.04, False), (0.8, 1, -0.04, False), (0.1, 2, -0.04, False)],\n",
    "        2: [(0.1, 1, -0.04, False), (0.8, 2, -0.04, False), (0.1, 1, -0.04, False)],\n",
    "        3: [(0.1, 2, -0.04, False), (0.8, 1, -0.04, False), (0.1, 0, -0.04, False)]\n",
    "    },\n",
    "    2: {\n",
    "        0: [(0.1, 2, -0.04, False),\n",
    "            (0.8, 1, -0.04, False),\n",
    "            (0.1, 6, -0.04, False)\n",
    "        ],\n",
    "        1: [(0.1, 1, -0.04, False), (0.8, 6, -0.04, False), (0.1, 3, 0.96, True)],\n",
    "        2: [(0.1, 6, -0.04, False), (0.8, 3, 0.96, True), (0.1, 2, -0.04, False)],\n",
    "        3: [(0.1, 3, 0.96, True), (0.8, 2, -0.04, False), (0.1, 1, -0.04, False)]\n",
    "    },\n",
    "    3: {\n",
    "        0: [(1.0, 3, 0, True)],\n",
    "        1: [(1.0, 3, 0, True)],\n",
    "        2: [(1.0, 3, 0, True)],\n",
    "        3: [(1.0, 3, 0, True)]\n",
    "    },\n",
    "    4: {\n",
    "        0: [(0.1, 0, -0.04, False),\n",
    "            (0.8, 4, -0.04, False),\n",
    "            (0.1, 8, -0.04, False)\n",
    "        ],\n",
    "        1: [(0.2, 4, -0.04, False), (0.8, 8, -0.04, False)],\n",
    "        2: [(0.1, 8, -0.04, False), (0.8, 4, -0.04, False), (0.1, 0, -0.04, False)],\n",
    "        3: [(0.2, 4, -0.04, False), (0.8, 0, -0.04, False)]\n",
    "    },\n",
    "    5: {\n",
    "        0: [(1.0, 5, 0, True)],\n",
    "        1: [(1.0, 5, 0, True)],\n",
    "        2: [(1.0, 5, 0, True)],\n",
    "        3: [(1.0, 5, 0, True)]\n",
    "    },\n",
    "    6: {\n",
    "        0: [(0.1, 2, -0.04, False),\n",
    "            (0.8, 6, -0.04, False),\n",
    "            (0.1, 10, -0.04, False)\n",
    "        ],\n",
    "        1: [(0.1, 6, -0.04, False), (0.8, 10, -0.04, False), (0.1, 7, -1.04, True)],\n",
    "        2: [(0.1, 10, -0.04, False), (0.8, 7, -1.04, True), (0.1, 2, -0.04, False)],\n",
    "        3: [(0.1, 7, -1.04, True), (0.8, 2, -0.04, False), (0.1, 6, -0.04, False)]\n",
    "    },\n",
    "    7: {\n",
    "        0: [(1.0, 7, 0, True)],\n",
    "        1: [(1.0, 7, 0, True)],\n",
    "        2: [(1.0, 7, 0, True)],\n",
    "        3: [(1.0, 7, 0, True)]\n",
    "    },\n",
    "    8: {\n",
    "        0: [(0.1, 4, -0.04, False),\n",
    "            (0.9, 8, -0.04, False)\n",
    "        ],\n",
    "        1: [(0.9, 8, -0.04, False), (0.1, 9, -0.04, False)],\n",
    "        2: [(0.1, 8, -0.04, False), (0.8, 9, -0.04, False), (0.1, 4, -0.04, False)],\n",
    "        3: [(0.1, 9, -0.04, False), (0.8, 4, -0.04, False), (0.1, 8, -0.04, False)]\n",
    "    },\n",
    "    9: {\n",
    "        0: [(0.2, 9, -0.04, False),\n",
    "            (0.8, 8, -0.04, False)\n",
    "        ],\n",
    "        1: [(0.1, 8, -0.04, False), (0.8, 9, -0.04, False), (0.1, 10, -0.04, False)],\n",
    "        2: [(0.2, 9, -0.04, False), (0.8, 10, -0.04, False)],\n",
    "        3: [(0.1, 10, -0.04, False),\n",
    "            (0.8, 9, -0.04, False),\n",
    "            (0.1, 8, -0.04, False)\n",
    "        ]\n",
    "    },\n",
    "    10: {\n",
    "        0: [(0.1, 6, -0.04, False),\n",
    "            (0.8, 9, -0.04, False),\n",
    "            (0.1, 10, -0.04, False)\n",
    "        ],\n",
    "        1: [(0.1, 9, -0.04, False),\n",
    "            (0.8, 10, -0.04, False),\n",
    "            (0.1, 11, -0.04, False)\n",
    "        ],\n",
    "        2: [(0.1, 10, -0.04, False),\n",
    "            (0.8, 11, -0.04, False),\n",
    "            (0.1, 6, -0.04, False)\n",
    "        ],\n",
    "        3: [(0.1, 11, -0.04, False),\n",
    "            (0.8, 6, -0.04, False),\n",
    "            (0.1, 9, -0.04, False)\n",
    "        ]\n",
    "    },\n",
    "    11: {\n",
    "        0: [(0.1, 7, -1.04, True),\n",
    "            (0.8, 10, -0.04, False),\n",
    "            (0.1, 11, -0.04, False)\n",
    "        ],\n",
    "        1: [(0.1, 10, -0.04, False),\n",
    "            (0.9, 11, -0.04, False)\n",
    "        ],\n",
    "        2: [(0.9, 11, -0.04, False), (0.1, 7, -1.04, True)],\n",
    "        3: [(0.1, 11, -0.04, False),\n",
    "            (0.8, 7, -1.04, True),\n",
    "            (0.1, 10, -0.04, False)\n",
    "        ]\n",
    "    }\n",
    "}\n",
    "\n",
    "P"
   ]
  },
  {
   "cell_type": "code",
   "execution_count": 17,
   "id": "98a93d6a-0731-438e-97a6-7592b173cecd",
   "metadata": {},
   "outputs": [
    {
     "ename": "UnregisteredEnv",
     "evalue": "No registered env with id: RussellNorvigGridWorld-v0",
     "output_type": "error",
     "traceback": [
      "\u001b[1;31m---------------------------------------------------------------------------\u001b[0m",
      "\u001b[1;31mKeyError\u001b[0m                                  Traceback (most recent call last)",
      "\u001b[1;32mC:\\ProgramData\\Anaconda3\\lib\\site-packages\\gym\\envs\\registration.py\u001b[0m in \u001b[0;36mspec\u001b[1;34m(self, path)\u001b[0m\n\u001b[0;32m    157\u001b[0m         \u001b[1;32mtry\u001b[0m\u001b[1;33m:\u001b[0m\u001b[1;33m\u001b[0m\u001b[1;33m\u001b[0m\u001b[0m\n\u001b[1;32m--> 158\u001b[1;33m             \u001b[1;32mreturn\u001b[0m \u001b[0mself\u001b[0m\u001b[1;33m.\u001b[0m\u001b[0menv_specs\u001b[0m\u001b[1;33m[\u001b[0m\u001b[0mid\u001b[0m\u001b[1;33m]\u001b[0m\u001b[1;33m\u001b[0m\u001b[1;33m\u001b[0m\u001b[0m\n\u001b[0m\u001b[0;32m    159\u001b[0m         \u001b[1;32mexcept\u001b[0m \u001b[0mKeyError\u001b[0m\u001b[1;33m:\u001b[0m\u001b[1;33m\u001b[0m\u001b[1;33m\u001b[0m\u001b[0m\n",
      "\u001b[1;31mKeyError\u001b[0m: 'RussellNorvigGridWorld-v0'",
      "\nDuring handling of the above exception, another exception occurred:\n",
      "\u001b[1;31mUnregisteredEnv\u001b[0m                           Traceback (most recent call last)",
      "\u001b[1;32m~\\AppData\\Local\\Temp/ipykernel_16600/1795534184.py\u001b[0m in \u001b[0;36m<module>\u001b[1;34m\u001b[0m\n\u001b[1;32m----> 1\u001b[1;33m \u001b[0mP\u001b[0m \u001b[1;33m=\u001b[0m \u001b[0mgym\u001b[0m\u001b[1;33m.\u001b[0m\u001b[0mmake\u001b[0m\u001b[1;33m(\u001b[0m\u001b[1;34m'RussellNorvigGridWorld-v0'\u001b[0m\u001b[1;33m)\u001b[0m\u001b[1;33m.\u001b[0m\u001b[0menv\u001b[0m\u001b[1;33m.\u001b[0m\u001b[0mP\u001b[0m\u001b[1;33m\u001b[0m\u001b[1;33m\u001b[0m\u001b[0m\n\u001b[0m\u001b[0;32m      2\u001b[0m \u001b[0mP\u001b[0m\u001b[1;33m\u001b[0m\u001b[1;33m\u001b[0m\u001b[0m\n",
      "\u001b[1;32mC:\\ProgramData\\Anaconda3\\lib\\site-packages\\gym\\envs\\registration.py\u001b[0m in \u001b[0;36mmake\u001b[1;34m(id, **kwargs)\u001b[0m\n\u001b[0;32m    233\u001b[0m \u001b[1;33m\u001b[0m\u001b[0m\n\u001b[0;32m    234\u001b[0m \u001b[1;32mdef\u001b[0m \u001b[0mmake\u001b[0m\u001b[1;33m(\u001b[0m\u001b[0mid\u001b[0m\u001b[1;33m,\u001b[0m \u001b[1;33m**\u001b[0m\u001b[0mkwargs\u001b[0m\u001b[1;33m)\u001b[0m\u001b[1;33m:\u001b[0m\u001b[1;33m\u001b[0m\u001b[1;33m\u001b[0m\u001b[0m\n\u001b[1;32m--> 235\u001b[1;33m     \u001b[1;32mreturn\u001b[0m \u001b[0mregistry\u001b[0m\u001b[1;33m.\u001b[0m\u001b[0mmake\u001b[0m\u001b[1;33m(\u001b[0m\u001b[0mid\u001b[0m\u001b[1;33m,\u001b[0m \u001b[1;33m**\u001b[0m\u001b[0mkwargs\u001b[0m\u001b[1;33m)\u001b[0m\u001b[1;33m\u001b[0m\u001b[1;33m\u001b[0m\u001b[0m\n\u001b[0m\u001b[0;32m    236\u001b[0m \u001b[1;33m\u001b[0m\u001b[0m\n\u001b[0;32m    237\u001b[0m \u001b[1;33m\u001b[0m\u001b[0m\n",
      "\u001b[1;32mC:\\ProgramData\\Anaconda3\\lib\\site-packages\\gym\\envs\\registration.py\u001b[0m in \u001b[0;36mmake\u001b[1;34m(self, path, **kwargs)\u001b[0m\n\u001b[0;32m    126\u001b[0m         \u001b[1;32melse\u001b[0m\u001b[1;33m:\u001b[0m\u001b[1;33m\u001b[0m\u001b[1;33m\u001b[0m\u001b[0m\n\u001b[0;32m    127\u001b[0m             \u001b[0mlogger\u001b[0m\u001b[1;33m.\u001b[0m\u001b[0minfo\u001b[0m\u001b[1;33m(\u001b[0m\u001b[1;34m\"Making new env: %s\"\u001b[0m\u001b[1;33m,\u001b[0m \u001b[0mpath\u001b[0m\u001b[1;33m)\u001b[0m\u001b[1;33m\u001b[0m\u001b[1;33m\u001b[0m\u001b[0m\n\u001b[1;32m--> 128\u001b[1;33m         \u001b[0mspec\u001b[0m \u001b[1;33m=\u001b[0m \u001b[0mself\u001b[0m\u001b[1;33m.\u001b[0m\u001b[0mspec\u001b[0m\u001b[1;33m(\u001b[0m\u001b[0mpath\u001b[0m\u001b[1;33m)\u001b[0m\u001b[1;33m\u001b[0m\u001b[1;33m\u001b[0m\u001b[0m\n\u001b[0m\u001b[0;32m    129\u001b[0m         \u001b[0menv\u001b[0m \u001b[1;33m=\u001b[0m \u001b[0mspec\u001b[0m\u001b[1;33m.\u001b[0m\u001b[0mmake\u001b[0m\u001b[1;33m(\u001b[0m\u001b[1;33m**\u001b[0m\u001b[0mkwargs\u001b[0m\u001b[1;33m)\u001b[0m\u001b[1;33m\u001b[0m\u001b[1;33m\u001b[0m\u001b[0m\n\u001b[0;32m    130\u001b[0m         \u001b[1;32mreturn\u001b[0m \u001b[0menv\u001b[0m\u001b[1;33m\u001b[0m\u001b[1;33m\u001b[0m\u001b[0m\n",
      "\u001b[1;32mC:\\ProgramData\\Anaconda3\\lib\\site-packages\\gym\\envs\\registration.py\u001b[0m in \u001b[0;36mspec\u001b[1;34m(self, path)\u001b[0m\n\u001b[0;32m    201\u001b[0m                 )\n\u001b[0;32m    202\u001b[0m             \u001b[1;32melse\u001b[0m\u001b[1;33m:\u001b[0m\u001b[1;33m\u001b[0m\u001b[1;33m\u001b[0m\u001b[0m\n\u001b[1;32m--> 203\u001b[1;33m                 \u001b[1;32mraise\u001b[0m \u001b[0merror\u001b[0m\u001b[1;33m.\u001b[0m\u001b[0mUnregisteredEnv\u001b[0m\u001b[1;33m(\u001b[0m\u001b[1;34m\"No registered env with id: {}\"\u001b[0m\u001b[1;33m.\u001b[0m\u001b[0mformat\u001b[0m\u001b[1;33m(\u001b[0m\u001b[0mid\u001b[0m\u001b[1;33m)\u001b[0m\u001b[1;33m)\u001b[0m\u001b[1;33m\u001b[0m\u001b[1;33m\u001b[0m\u001b[0m\n\u001b[0m\u001b[0;32m    204\u001b[0m \u001b[1;33m\u001b[0m\u001b[0m\n\u001b[0;32m    205\u001b[0m     \u001b[1;32mdef\u001b[0m \u001b[0mregister\u001b[0m\u001b[1;33m(\u001b[0m\u001b[0mself\u001b[0m\u001b[1;33m,\u001b[0m \u001b[0mid\u001b[0m\u001b[1;33m,\u001b[0m \u001b[1;33m**\u001b[0m\u001b[0mkwargs\u001b[0m\u001b[1;33m)\u001b[0m\u001b[1;33m:\u001b[0m\u001b[1;33m\u001b[0m\u001b[1;33m\u001b[0m\u001b[0m\n",
      "\u001b[1;31mUnregisteredEnv\u001b[0m: No registered env with id: RussellNorvigGridWorld-v0"
     ]
    }
   ],
   "source": [
    "P = gym.make('RussellNorvigGridWorld-v0').env.P\n",
    "P"
   ]
  },
  {
   "cell_type": "code",
   "execution_count": null,
   "id": "79852293-5989-46ab-9076-e0ba8779e354",
   "metadata": {},
   "outputs": [],
   "source": []
  },
  {
   "cell_type": "markdown",
   "id": "6dc813aa-6221-44e1-9740-e4293546b020",
   "metadata": {},
   "source": [
    "# FronzenLake Env"
   ]
  },
  {
   "cell_type": "code",
   "execution_count": null,
   "id": "fd114d75-28a5-4af3-bc01-4483dca78c8b",
   "metadata": {},
   "outputs": [],
   "source": [
    "P = {\n",
    "    0: {\n",
    "        0: [(0.66666666666, 0, 0.0, False),\n",
    "            (0.33333333333, 4, 0.0, False)\n",
    "           ],\n",
    "        1: ["
   ]
  }
 ],
 "metadata": {
  "kernelspec": {
   "display_name": "Python 3 (ipykernel)",
   "language": "python",
   "name": "python3"
  },
  "language_info": {
   "codemirror_mode": {
    "name": "ipython",
    "version": 3
   },
   "file_extension": ".py",
   "mimetype": "text/x-python",
   "name": "python",
   "nbconvert_exporter": "python",
   "pygments_lexer": "ipython3",
   "version": "3.9.7"
  }
 },
 "nbformat": 4,
 "nbformat_minor": 5
}
