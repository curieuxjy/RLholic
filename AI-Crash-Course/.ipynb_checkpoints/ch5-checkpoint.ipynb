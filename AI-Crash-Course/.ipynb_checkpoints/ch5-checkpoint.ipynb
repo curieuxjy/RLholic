{
 "cells": [
  {
   "cell_type": "markdown",
   "id": "artificial-compound",
   "metadata": {},
   "source": [
    "# Thompson Sampling for Slot Machines"
   ]
  },
  {
   "cell_type": "code",
   "execution_count": 98,
   "id": "alien-anime",
   "metadata": {},
   "outputs": [],
   "source": [
    "import numpy as np\n",
    "import os\n",
    "# import torch"
   ]
  },
  {
   "cell_type": "markdown",
   "id": "unlike-boxing",
   "metadata": {},
   "source": [
    "[seed](https://dacon.io/codeshare/2363)"
   ]
  },
  {
   "cell_type": "code",
   "execution_count": 99,
   "id": "official-mayor",
   "metadata": {},
   "outputs": [],
   "source": [
    "class config:\n",
    "    seed = 1021"
   ]
  },
  {
   "cell_type": "code",
   "execution_count": 100,
   "id": "medium-relative",
   "metadata": {},
   "outputs": [],
   "source": [
    "def seed_everything(seed: int = 1021):\n",
    "    random.seed(seed)\n",
    "    np.random.seed(seed)\n",
    "    os.environ[\"PYTHONHASHSEED\"] = str(seed)"
   ]
  },
  {
   "cell_type": "code",
   "execution_count": 101,
   "id": "executed-summary",
   "metadata": {},
   "outputs": [],
   "source": [
    "seed_everything(config.seed)"
   ]
  },
  {
   "cell_type": "code",
   "execution_count": 102,
   "id": "inappropriate-brunswick",
   "metadata": {},
   "outputs": [],
   "source": [
    "conversionRates = [0.15, 0.04, 0.13, 0.11, 0.05] # 5개 슬롯머신의 승률\n",
    "N = 2000 # 샘플 수\n",
    "d = len(conversionRates) "
   ]
  },
  {
   "cell_type": "code",
   "execution_count": 103,
   "id": "negative-canon",
   "metadata": {},
   "outputs": [
    {
     "name": "stdout",
     "output_type": "stream",
     "text": [
      "[[0. 0. 0. 0. 0.]\n",
      " [0. 0. 0. 0. 0.]\n",
      " [0. 0. 0. 0. 0.]\n",
      " ...\n",
      " [0. 0. 0. 0. 0.]\n",
      " [0. 0. 0. 1. 0.]\n",
      " [0. 0. 0. 1. 0.]]\n",
      "288.0\n"
     ]
    }
   ],
   "source": [
    "seed_everything(config.seed)\n",
    "X = np.zeros((N, d)) # 2000 X 5\n",
    "\n",
    "for i in range(N):\n",
    "    for j in range(d):\n",
    "        # X의 한 행\n",
    "        if np.random.rand() < conversionRates[j]:\n",
    "            # conversionRates[0] = 0.15이면 100번 중 0.15보다 작을 샘플은 15개(2000번이면 300개)\n",
    "            X[i][j] = 1 # win\n",
    "            \n",
    "print(X)\n",
    "print(np.sum([X[i][0] for i in range(N)])) # similar to 300"
   ]
  },
  {
   "cell_type": "code",
   "execution_count": 104,
   "id": "outstanding-dubai",
   "metadata": {},
   "outputs": [],
   "source": [
    "# 승패를 셀 배열\n",
    "nPosReward = np.zeros(d)\n",
    "nNegReward = np.zeros(d)"
   ]
  },
  {
   "cell_type": "code",
   "execution_count": 105,
   "id": "sixth-drinking",
   "metadata": {},
   "outputs": [],
   "source": [
    "# beta distribution으로 best slot machine 선택 & 승패 update\n",
    "for i in range(N):\n",
    "    selected = 0 # 어떤 slot machine 선택했는지\n",
    "    maxRandom = 0 # 모든 슬롯머신에서 가장 놓은 beta distribution approximation을 얻기 위해"
   ]
  },
  {
   "cell_type": "code",
   "execution_count": 109,
   "id": "lucky-suite",
   "metadata": {},
   "outputs": [],
   "source": [
    "# 톰슨 샘플링의 핵심: beta distribution에서 난수 받아서 전체 slot 머신에서 가장 높은 값 찾기\n",
    "seed_everything(config.seed)\n",
    "for j in range(d):\n",
    "    randomBeta = np.random.beta(nPosReward[j] +1, nNegReward[j] +1)\n",
    "    if randomBeta > maxRandom:\n",
    "        maxRandom = randomBeta\n",
    "        selected = j"
   ]
  },
  {
   "cell_type": "code",
   "execution_count": 110,
   "id": "isolated-professional",
   "metadata": {},
   "outputs": [
    {
     "data": {
      "text/plain": [
       "0.8330824185165057"
      ]
     },
     "execution_count": 110,
     "metadata": {},
     "output_type": "execute_result"
    }
   ],
   "source": [
    "maxRandom"
   ]
  },
  {
   "cell_type": "code",
   "execution_count": 111,
   "id": "outstanding-college",
   "metadata": {},
   "outputs": [
    {
     "data": {
      "text/plain": [
       "0.8330824185165057"
      ]
     },
     "execution_count": 111,
     "metadata": {},
     "output_type": "execute_result"
    }
   ],
   "source": [
    "randomBeta"
   ]
  },
  {
   "cell_type": "code",
   "execution_count": 112,
   "id": "political-validation",
   "metadata": {},
   "outputs": [],
   "source": [
    "# win or lose?\n",
    "if X[i][selected] == 1:\n",
    "    nPosReward[selected] += 1\n",
    "else:\n",
    "    nNegReward[selected] += 1"
   ]
  },
  {
   "cell_type": "code",
   "execution_count": 113,
   "id": "lesser-slovak",
   "metadata": {},
   "outputs": [
    {
     "name": "stdout",
     "output_type": "stream",
     "text": [
      "Machine number 1 was selected 0.0 times\n",
      "Machine number 2 was selected 0.0 times\n",
      "Machine number 3 was selected 0.0 times\n",
      "Machine number 4 was selected 0.0 times\n",
      "Machine number 5 was selected 1.0 times\n",
      "Conclusion: Best machine is machine number 5\n"
     ]
    }
   ],
   "source": [
    "# flag the best slot machine\n",
    "nSelected = nPosReward + nNegReward\n",
    "for i in range(d):\n",
    "    print(\"Machine number \"+str(i+1)+\" was selected \"+str(nSelected[i]) + \" times\")\n",
    "print(\"Conclusion: Best machine is machine number \" + str(np.argmax(nSelected) +1))"
   ]
  },
  {
   "cell_type": "code",
   "execution_count": 119,
   "id": "subsequent-staff",
   "metadata": {},
   "outputs": [
    {
     "name": "stdout",
     "output_type": "stream",
     "text": [
      "Machine number 1 was selected 524.0 times\n",
      "Machine number 2 was selected 54.0 times\n",
      "Machine number 3 was selected 1062.0 times\n",
      "Machine number 4 was selected 281.0 times\n",
      "Machine number 5 was selected 79.0 times\n",
      "Conclusion: Best machine is machine number 3\n"
     ]
    }
   ],
   "source": [
    "# total code\n",
    "seed_everything(config.seed)\n",
    "\n",
    "conversionRates = [0.15, 0.04, 0.13, 0.11, 0.05]\n",
    "N = 2000 \n",
    "d = len(conversionRates) \n",
    "\n",
    "nPosReward = np.zeros(d)\n",
    "nNegReward = np.zeros(d)\n",
    "\n",
    "for i in range(N):\n",
    "    selected = 0 \n",
    "    maxRandom = 0 \n",
    "    for j in range(d):\n",
    "        randomBeta = np.random.beta(nPosReward[j] +1, nNegReward[j] +1)\n",
    "        if randomBeta > maxRandom:\n",
    "            maxRandom = randomBeta\n",
    "            selected = j\n",
    "    \n",
    "    if X[i][selected] == 1:\n",
    "        nPosReward[selected] += 1\n",
    "    else:\n",
    "        nNegReward[selected] += 1\n",
    "        \n",
    "nSelected = nPosReward + nNegReward\n",
    "\n",
    "for i in range(d):\n",
    "    print(\"Machine number \"+str(i+1)+\" was selected \"+str(nSelected[i]) + \" times\")\n",
    "print(\"Conclusion: Best machine is machine number \" + str(np.argmax(nSelected) +1))"
   ]
  },
  {
   "cell_type": "code",
   "execution_count": 120,
   "id": "authorized-majority",
   "metadata": {},
   "outputs": [
    {
     "name": "stdout",
     "output_type": "stream",
     "text": [
      "N = 200 d = 3 range = (0.0, 0.1) | result Thompson Sampling = 648 result Standard solution = 572\n",
      "N = 200 d = 4 range = (0.0, 0.1) | result Thompson Sampling = 534 result Standard solution = 487\n",
      "N = 200 d = 5 range = (0.0, 0.1) | result Thompson Sampling = 470 result Standard solution = 425\n",
      "N = 200 d = 6 range = (0.0, 0.1) | result Thompson Sampling = 411 result Standard solution = 367\n",
      "N = 200 d = 7 range = (0.0, 0.1) | result Thompson Sampling = 394 result Standard solution = 347\n",
      "N = 200 d = 8 range = (0.0, 0.1) | result Thompson Sampling = 311 result Standard solution = 315\n",
      "N = 200 d = 9 range = (0.0, 0.1) | result Thompson Sampling = 283 result Standard solution = 265\n",
      "N = 200 d = 10 range = (0.0, 0.1) | result Thompson Sampling = 258 result Standard solution = 248\n",
      "N = 200 d = 11 range = (0.0, 0.1) | result Thompson Sampling = 273 result Standard solution = 231\n",
      "N = 200 d = 12 range = (0.0, 0.1) | result Thompson Sampling = 250 result Standard solution = 180\n",
      "N = 200 d = 13 range = (0.0, 0.1) | result Thompson Sampling = 219 result Standard solution = 185\n",
      "N = 200 d = 14 range = (0.0, 0.1) | result Thompson Sampling = 199 result Standard solution = 166\n",
      "N = 200 d = 15 range = (0.0, 0.1) | result Thompson Sampling = 185 result Standard solution = 201\n",
      "N = 200 d = 16 range = (0.0, 0.1) | result Thompson Sampling = 196 result Standard solution = 146\n",
      "N = 200 d = 17 range = (0.0, 0.1) | result Thompson Sampling = 160 result Standard solution = 137\n",
      "N = 200 d = 18 range = (0.0, 0.1) | result Thompson Sampling = 144 result Standard solution = 126\n",
      "N = 200 d = 19 range = (0.0, 0.1) | result Thompson Sampling = 124 result Standard solution = 127\n",
      "N = 200 d = 20 range = (0.0, 0.1) | result Thompson Sampling = 160 result Standard solution = 120\n",
      "N = 200 d = 3 range = (0.0, 0.3) | result Thompson Sampling = 776 result Standard solution = 645\n",
      "N = 200 d = 4 range = (0.0, 0.3) | result Thompson Sampling = 704 result Standard solution = 597\n",
      "N = 200 d = 5 range = (0.0, 0.3) | result Thompson Sampling = 584 result Standard solution = 538\n",
      "N = 200 d = 6 range = (0.0, 0.3) | result Thompson Sampling = 560 result Standard solution = 454\n",
      "N = 200 d = 7 range = (0.0, 0.3) | result Thompson Sampling = 502 result Standard solution = 428\n",
      "N = 200 d = 8 range = (0.0, 0.3) | result Thompson Sampling = 462 result Standard solution = 375\n",
      "N = 200 d = 9 range = (0.0, 0.3) | result Thompson Sampling = 452 result Standard solution = 347\n",
      "N = 200 d = 10 range = (0.0, 0.3) | result Thompson Sampling = 417 result Standard solution = 322\n",
      "N = 200 d = 11 range = (0.0, 0.3) | result Thompson Sampling = 356 result Standard solution = 320\n",
      "N = 200 d = 12 range = (0.0, 0.3) | result Thompson Sampling = 329 result Standard solution = 266\n",
      "N = 200 d = 13 range = (0.0, 0.3) | result Thompson Sampling = 319 result Standard solution = 249\n",
      "N = 200 d = 14 range = (0.0, 0.3) | result Thompson Sampling = 284 result Standard solution = 221\n",
      "N = 200 d = 15 range = (0.0, 0.3) | result Thompson Sampling = 286 result Standard solution = 235\n",
      "N = 200 d = 16 range = (0.0, 0.3) | result Thompson Sampling = 295 result Standard solution = 224\n",
      "N = 200 d = 17 range = (0.0, 0.3) | result Thompson Sampling = 279 result Standard solution = 193\n",
      "N = 200 d = 18 range = (0.0, 0.3) | result Thompson Sampling = 237 result Standard solution = 180\n",
      "N = 200 d = 19 range = (0.0, 0.3) | result Thompson Sampling = 213 result Standard solution = 177\n",
      "N = 200 d = 20 range = (0.0, 0.3) | result Thompson Sampling = 209 result Standard solution = 177\n",
      "N = 200 d = 3 range = (0.0, 0.5) | result Thompson Sampling = 826 result Standard solution = 678\n",
      "N = 200 d = 4 range = (0.0, 0.5) | result Thompson Sampling = 757 result Standard solution = 609\n",
      "N = 200 d = 5 range = (0.0, 0.5) | result Thompson Sampling = 705 result Standard solution = 585\n",
      "N = 200 d = 6 range = (0.0, 0.5) | result Thompson Sampling = 657 result Standard solution = 531\n",
      "N = 200 d = 7 range = (0.0, 0.5) | result Thompson Sampling = 609 result Standard solution = 481\n",
      "N = 200 d = 8 range = (0.0, 0.5) | result Thompson Sampling = 553 result Standard solution = 427\n",
      "N = 200 d = 9 range = (0.0, 0.5) | result Thompson Sampling = 525 result Standard solution = 366\n",
      "N = 200 d = 10 range = (0.0, 0.5) | result Thompson Sampling = 518 result Standard solution = 410\n",
      "N = 200 d = 11 range = (0.0, 0.5) | result Thompson Sampling = 467 result Standard solution = 356\n",
      "N = 200 d = 12 range = (0.0, 0.5) | result Thompson Sampling = 444 result Standard solution = 327\n",
      "N = 200 d = 13 range = (0.0, 0.5) | result Thompson Sampling = 403 result Standard solution = 298\n",
      "N = 200 d = 14 range = (0.0, 0.5) | result Thompson Sampling = 363 result Standard solution = 305\n",
      "N = 200 d = 15 range = (0.0, 0.5) | result Thompson Sampling = 370 result Standard solution = 276\n",
      "N = 200 d = 16 range = (0.0, 0.5) | result Thompson Sampling = 359 result Standard solution = 284\n",
      "N = 200 d = 17 range = (0.0, 0.5) | result Thompson Sampling = 320 result Standard solution = 233\n",
      "N = 200 d = 18 range = (0.0, 0.5) | result Thompson Sampling = 321 result Standard solution = 246\n",
      "N = 200 d = 19 range = (0.0, 0.5) | result Thompson Sampling = 334 result Standard solution = 242\n",
      "N = 200 d = 20 range = (0.0, 0.5) | result Thompson Sampling = 263 result Standard solution = 187\n",
      "N = 1000 d = 3 range = (0.0, 0.1) | result Thompson Sampling = 802 result Standard solution = 713\n",
      "N = 1000 d = 4 range = (0.0, 0.1) | result Thompson Sampling = 707 result Standard solution = 618\n",
      "N = 1000 d = 5 range = (0.0, 0.1) | result Thompson Sampling = 657 result Standard solution = 534\n",
      "N = 1000 d = 6 range = (0.0, 0.1) | result Thompson Sampling = 592 result Standard solution = 543\n",
      "N = 1000 d = 7 range = (0.0, 0.1) | result Thompson Sampling = 556 result Standard solution = 462\n",
      "N = 1000 d = 8 range = (0.0, 0.1) | result Thompson Sampling = 477 result Standard solution = 434\n",
      "N = 1000 d = 9 range = (0.0, 0.1) | result Thompson Sampling = 461 result Standard solution = 396\n",
      "N = 1000 d = 10 range = (0.0, 0.1) | result Thompson Sampling = 445 result Standard solution = 348\n",
      "N = 1000 d = 11 range = (0.0, 0.1) | result Thompson Sampling = 424 result Standard solution = 375\n",
      "N = 1000 d = 12 range = (0.0, 0.1) | result Thompson Sampling = 421 result Standard solution = 332\n",
      "N = 1000 d = 13 range = (0.0, 0.1) | result Thompson Sampling = 384 result Standard solution = 296\n",
      "N = 1000 d = 14 range = (0.0, 0.1) | result Thompson Sampling = 328 result Standard solution = 263\n",
      "N = 1000 d = 15 range = (0.0, 0.1) | result Thompson Sampling = 352 result Standard solution = 246\n",
      "N = 1000 d = 16 range = (0.0, 0.1) | result Thompson Sampling = 319 result Standard solution = 248\n",
      "N = 1000 d = 17 range = (0.0, 0.1) | result Thompson Sampling = 273 result Standard solution = 229\n",
      "N = 1000 d = 18 range = (0.0, 0.1) | result Thompson Sampling = 258 result Standard solution = 230\n",
      "N = 1000 d = 19 range = (0.0, 0.1) | result Thompson Sampling = 277 result Standard solution = 216\n",
      "N = 1000 d = 20 range = (0.0, 0.1) | result Thompson Sampling = 233 result Standard solution = 210\n",
      "N = 1000 d = 3 range = (0.0, 0.3) | result Thompson Sampling = 870 result Standard solution = 755\n",
      "N = 1000 d = 4 range = (0.0, 0.3) | result Thompson Sampling = 827 result Standard solution = 694\n",
      "N = 1000 d = 5 range = (0.0, 0.3) | result Thompson Sampling = 801 result Standard solution = 632\n",
      "N = 1000 d = 6 range = (0.0, 0.3) | result Thompson Sampling = 755 result Standard solution = 594\n",
      "N = 1000 d = 7 range = (0.0, 0.3) | result Thompson Sampling = 707 result Standard solution = 549\n",
      "N = 1000 d = 8 range = (0.0, 0.3) | result Thompson Sampling = 677 result Standard solution = 530\n",
      "N = 1000 d = 9 range = (0.0, 0.3) | result Thompson Sampling = 633 result Standard solution = 503\n",
      "N = 1000 d = 10 range = (0.0, 0.3) | result Thompson Sampling = 607 result Standard solution = 475\n",
      "N = 1000 d = 11 range = (0.0, 0.3) | result Thompson Sampling = 591 result Standard solution = 447\n",
      "N = 1000 d = 12 range = (0.0, 0.3) | result Thompson Sampling = 552 result Standard solution = 431\n",
      "N = 1000 d = 13 range = (0.0, 0.3) | result Thompson Sampling = 533 result Standard solution = 405\n",
      "N = 1000 d = 14 range = (0.0, 0.3) | result Thompson Sampling = 518 result Standard solution = 355\n",
      "N = 1000 d = 15 range = (0.0, 0.3) | result Thompson Sampling = 500 result Standard solution = 375\n",
      "N = 1000 d = 16 range = (0.0, 0.3) | result Thompson Sampling = 459 result Standard solution = 336\n",
      "N = 1000 d = 17 range = (0.0, 0.3) | result Thompson Sampling = 422 result Standard solution = 290\n",
      "N = 1000 d = 18 range = (0.0, 0.3) | result Thompson Sampling = 429 result Standard solution = 310\n",
      "N = 1000 d = 19 range = (0.0, 0.3) | result Thompson Sampling = 406 result Standard solution = 257\n",
      "N = 1000 d = 20 range = (0.0, 0.3) | result Thompson Sampling = 365 result Standard solution = 275\n",
      "N = 1000 d = 3 range = (0.0, 0.5) | result Thompson Sampling = 902 result Standard solution = 801\n",
      "N = 1000 d = 4 range = (0.0, 0.5) | result Thompson Sampling = 881 result Standard solution = 735\n",
      "N = 1000 d = 5 range = (0.0, 0.5) | result Thompson Sampling = 848 result Standard solution = 676\n",
      "N = 1000 d = 6 range = (0.0, 0.5) | result Thompson Sampling = 814 result Standard solution = 645\n",
      "N = 1000 d = 7 range = (0.0, 0.5) | result Thompson Sampling = 780 result Standard solution = 602\n",
      "N = 1000 d = 8 range = (0.0, 0.5) | result Thompson Sampling = 790 result Standard solution = 579\n",
      "N = 1000 d = 9 range = (0.0, 0.5) | result Thompson Sampling = 748 result Standard solution = 543\n",
      "N = 1000 d = 10 range = (0.0, 0.5) | result Thompson Sampling = 725 result Standard solution = 506\n",
      "N = 1000 d = 11 range = (0.0, 0.5) | result Thompson Sampling = 665 result Standard solution = 480\n",
      "N = 1000 d = 12 range = (0.0, 0.5) | result Thompson Sampling = 633 result Standard solution = 475\n",
      "N = 1000 d = 13 range = (0.0, 0.5) | result Thompson Sampling = 620 result Standard solution = 438\n",
      "N = 1000 d = 14 range = (0.0, 0.5) | result Thompson Sampling = 606 result Standard solution = 443\n",
      "N = 1000 d = 15 range = (0.0, 0.5) | result Thompson Sampling = 604 result Standard solution = 437\n",
      "N = 1000 d = 16 range = (0.0, 0.5) | result Thompson Sampling = 572 result Standard solution = 377\n",
      "N = 1000 d = 17 range = (0.0, 0.5) | result Thompson Sampling = 539 result Standard solution = 376\n",
      "N = 1000 d = 18 range = (0.0, 0.5) | result Thompson Sampling = 533 result Standard solution = 362\n",
      "N = 1000 d = 19 range = (0.0, 0.5) | result Thompson Sampling = 525 result Standard solution = 368\n",
      "N = 1000 d = 20 range = (0.0, 0.5) | result Thompson Sampling = 536 result Standard solution = 332\n",
      "N = 5000 d = 3 range = (0.0, 0.1) | result Thompson Sampling = 884 result Standard solution = 784\n",
      "N = 5000 d = 4 range = (0.0, 0.1) | result Thompson Sampling = 852 result Standard solution = 706\n",
      "N = 5000 d = 5 range = (0.0, 0.1) | result Thompson Sampling = 819 result Standard solution = 675\n",
      "N = 5000 d = 6 range = (0.0, 0.1) | result Thompson Sampling = 778 result Standard solution = 601\n",
      "N = 5000 d = 7 range = (0.0, 0.1) | result Thompson Sampling = 760 result Standard solution = 610\n",
      "N = 5000 d = 8 range = (0.0, 0.1) | result Thompson Sampling = 707 result Standard solution = 549\n",
      "N = 5000 d = 9 range = (0.0, 0.1) | result Thompson Sampling = 680 result Standard solution = 522\n",
      "N = 5000 d = 10 range = (0.0, 0.1) | result Thompson Sampling = 640 result Standard solution = 492\n",
      "N = 5000 d = 11 range = (0.0, 0.1) | result Thompson Sampling = 651 result Standard solution = 460\n",
      "N = 5000 d = 12 range = (0.0, 0.1) | result Thompson Sampling = 606 result Standard solution = 430\n",
      "N = 5000 d = 13 range = (0.0, 0.1) | result Thompson Sampling = 586 result Standard solution = 384\n",
      "N = 5000 d = 14 range = (0.0, 0.1) | result Thompson Sampling = 531 result Standard solution = 429\n",
      "N = 5000 d = 15 range = (0.0, 0.1) | result Thompson Sampling = 547 result Standard solution = 382\n",
      "N = 5000 d = 16 range = (0.0, 0.1) | result Thompson Sampling = 500 result Standard solution = 383\n",
      "N = 5000 d = 17 range = (0.0, 0.1) | result Thompson Sampling = 495 result Standard solution = 361\n",
      "N = 5000 d = 18 range = (0.0, 0.1) | result Thompson Sampling = 464 result Standard solution = 335\n",
      "N = 5000 d = 19 range = (0.0, 0.1) | result Thompson Sampling = 434 result Standard solution = 309\n",
      "N = 5000 d = 20 range = (0.0, 0.1) | result Thompson Sampling = 406 result Standard solution = 284\n",
      "N = 5000 d = 3 range = (0.0, 0.3) | result Thompson Sampling = 939 result Standard solution = 824\n",
      "N = 5000 d = 4 range = (0.0, 0.3) | result Thompson Sampling = 920 result Standard solution = 764\n",
      "N = 5000 d = 5 range = (0.0, 0.3) | result Thompson Sampling = 902 result Standard solution = 706\n",
      "N = 5000 d = 6 range = (0.0, 0.3) | result Thompson Sampling = 864 result Standard solution = 712\n",
      "N = 5000 d = 7 range = (0.0, 0.3) | result Thompson Sampling = 851 result Standard solution = 694\n",
      "N = 5000 d = 8 range = (0.0, 0.3) | result Thompson Sampling = 821 result Standard solution = 621\n",
      "N = 5000 d = 9 range = (0.0, 0.3) | result Thompson Sampling = 811 result Standard solution = 593\n",
      "N = 5000 d = 10 range = (0.0, 0.3) | result Thompson Sampling = 785 result Standard solution = 581\n",
      "N = 5000 d = 11 range = (0.0, 0.3) | result Thompson Sampling = 774 result Standard solution = 551\n",
      "N = 5000 d = 12 range = (0.0, 0.3) | result Thompson Sampling = 732 result Standard solution = 469\n",
      "N = 5000 d = 13 range = (0.0, 0.3) | result Thompson Sampling = 747 result Standard solution = 518\n",
      "N = 5000 d = 14 range = (0.0, 0.3) | result Thompson Sampling = 710 result Standard solution = 479\n",
      "N = 5000 d = 15 range = (0.0, 0.3) | result Thompson Sampling = 698 result Standard solution = 435\n",
      "N = 5000 d = 16 range = (0.0, 0.3) | result Thompson Sampling = 693 result Standard solution = 464\n",
      "N = 5000 d = 17 range = (0.0, 0.3) | result Thompson Sampling = 685 result Standard solution = 423\n",
      "N = 5000 d = 18 range = (0.0, 0.3) | result Thompson Sampling = 637 result Standard solution = 460\n",
      "N = 5000 d = 19 range = (0.0, 0.3) | result Thompson Sampling = 648 result Standard solution = 393\n",
      "N = 5000 d = 20 range = (0.0, 0.3) | result Thompson Sampling = 628 result Standard solution = 393\n",
      "N = 5000 d = 3 range = (0.0, 0.5) | result Thompson Sampling = 956 result Standard solution = 853\n",
      "N = 5000 d = 4 range = (0.0, 0.5) | result Thompson Sampling = 962 result Standard solution = 796\n",
      "N = 5000 d = 5 range = (0.0, 0.5) | result Thompson Sampling = 930 result Standard solution = 772\n",
      "N = 5000 d = 6 range = (0.0, 0.5) | result Thompson Sampling = 925 result Standard solution = 745\n",
      "N = 5000 d = 7 range = (0.0, 0.5) | result Thompson Sampling = 888 result Standard solution = 707\n",
      "N = 5000 d = 8 range = (0.0, 0.5) | result Thompson Sampling = 899 result Standard solution = 667\n",
      "N = 5000 d = 9 range = (0.0, 0.5) | result Thompson Sampling = 875 result Standard solution = 639\n",
      "N = 5000 d = 10 range = (0.0, 0.5) | result Thompson Sampling = 848 result Standard solution = 629\n",
      "N = 5000 d = 11 range = (0.0, 0.5) | result Thompson Sampling = 845 result Standard solution = 610\n",
      "N = 5000 d = 12 range = (0.0, 0.5) | result Thompson Sampling = 809 result Standard solution = 576\n",
      "N = 5000 d = 13 range = (0.0, 0.5) | result Thompson Sampling = 813 result Standard solution = 559\n",
      "N = 5000 d = 14 range = (0.0, 0.5) | result Thompson Sampling = 812 result Standard solution = 542\n",
      "N = 5000 d = 15 range = (0.0, 0.5) | result Thompson Sampling = 764 result Standard solution = 543\n",
      "N = 5000 d = 16 range = (0.0, 0.5) | result Thompson Sampling = 788 result Standard solution = 538\n",
      "N = 5000 d = 17 range = (0.0, 0.5) | result Thompson Sampling = 756 result Standard solution = 501\n",
      "N = 5000 d = 18 range = (0.0, 0.5) | result Thompson Sampling = 749 result Standard solution = 501\n",
      "N = 5000 d = 19 range = (0.0, 0.5) | result Thompson Sampling = 739 result Standard solution = 468\n",
      "N = 5000 d = 20 range = (0.0, 0.5) | result Thompson Sampling = 703 result Standard solution = 447\n"
     ]
    }
   ],
   "source": [
    "# Models comparison\n",
    "\n",
    "import numpy as np\n",
    "import pandas as pd\n",
    "\n",
    "N = [200, 1000, 5000] # number of samples\n",
    "D = 20 # slot machine number\n",
    "convRanges = [(0., 0.1), (0., 0.3), (0., 0.5)] # conversionRate range\n",
    "\n",
    "results = list()\n",
    "for n in N: # variations of sample numbers\n",
    "    for ranges in convRanges: # variations of conversionRate range\n",
    "        results.append([])\n",
    "        for d  in range(3, D + 1): # variations of slot machine number\n",
    "            p1 = 0\n",
    "            p2 = 0\n",
    "\n",
    "            for rounds in range(1000): # 1000 tests\n",
    "                \n",
    "                conversionRates = list() # initialize conversionRates\n",
    "                for i in range(d):\n",
    "                    conversionRates.append(np.random.uniform(low = ranges[0], high = ranges[1]))\n",
    "                    \n",
    "                X = np.zeros((n,d))\n",
    "                for i in range(n):\n",
    "                    for j in range(d):\n",
    "                        if np.random.rand() < conversionRates[j]:\n",
    "                            X[i][j] = 1\n",
    "                \n",
    "                nPosReward = np.zeros(d)\n",
    "                nNegReward = np.zeros(d)\n",
    "                \n",
    "                for i in range(n):\n",
    "                    selected = 0\n",
    "                    maxRandom = 0\n",
    "                    \n",
    "                    for j in range(d):\n",
    "                        randomBeta = np.random.beta(nPosReward[j] + 1, nNegReward[j] + 1)\n",
    "                        if randomBeta > maxRandom:\n",
    "                            maxRandom = randomBeta\n",
    "                            selected = j\n",
    "                        \n",
    "                    if X[i][selected] == 1:\n",
    "                        nPosReward[selected] += 1\n",
    "                    else:\n",
    "                        nNegReward[selected] += 1\n",
    "                \n",
    "                nSelected = nPosReward + nNegReward\n",
    "                \n",
    "                left = n - max(nSelected)\n",
    "                \n",
    "                countStandard = np.zeros(d)\n",
    "                \n",
    "                x = int(left / d)\n",
    "                for i in range(x):\n",
    "                    for j in range(d):\n",
    "                        if X[i][j] == 1:\n",
    "                            countStandard[j] += 1\n",
    "                \n",
    "                bestStandard = np.argmax(countStandard)\n",
    "                bestReal = np.argmax(conversionRates)\n",
    "                bestTS = np.argmax(nSelected)\n",
    "\n",
    "                if bestTS == bestReal:\n",
    "                    p1 += 1\n",
    "                if bestStandard == bestReal:\n",
    "                    p2 += 1\n",
    "                \n",
    "            print('N = ' + str(n) + ' d = ' + str(d) + ' range = ' + str(ranges) + ' | result Thompson Sampling = ' + str(p1) + ' result Standard solution = ' + str(p2))\n",
    "            results.append([n, ranges, d, p1, p2])"
   ]
  },
  {
   "cell_type": "code",
   "execution_count": 122,
   "id": "inside-criticism",
   "metadata": {},
   "outputs": [],
   "source": [
    "df = pd.DataFrame(results)\n",
    "df.to_excel('ch5_results.xlsx', sheet_name = 'Result', index = False)"
   ]
  },
  {
   "cell_type": "code",
   "execution_count": 123,
   "id": "imported-concrete",
   "metadata": {},
   "outputs": [
    {
     "data": {
      "text/html": [
       "<div>\n",
       "<style scoped>\n",
       "    .dataframe tbody tr th:only-of-type {\n",
       "        vertical-align: middle;\n",
       "    }\n",
       "\n",
       "    .dataframe tbody tr th {\n",
       "        vertical-align: top;\n",
       "    }\n",
       "\n",
       "    .dataframe thead th {\n",
       "        text-align: right;\n",
       "    }\n",
       "</style>\n",
       "<table border=\"1\" class=\"dataframe\">\n",
       "  <thead>\n",
       "    <tr style=\"text-align: right;\">\n",
       "      <th></th>\n",
       "      <th>0</th>\n",
       "      <th>1</th>\n",
       "      <th>2</th>\n",
       "      <th>3</th>\n",
       "      <th>4</th>\n",
       "    </tr>\n",
       "  </thead>\n",
       "  <tbody>\n",
       "    <tr>\n",
       "      <th>0</th>\n",
       "      <td>NaN</td>\n",
       "      <td>None</td>\n",
       "      <td>NaN</td>\n",
       "      <td>NaN</td>\n",
       "      <td>NaN</td>\n",
       "    </tr>\n",
       "    <tr>\n",
       "      <th>1</th>\n",
       "      <td>200.0</td>\n",
       "      <td>(0.0, 0.1)</td>\n",
       "      <td>3.0</td>\n",
       "      <td>648.0</td>\n",
       "      <td>572.0</td>\n",
       "    </tr>\n",
       "    <tr>\n",
       "      <th>2</th>\n",
       "      <td>200.0</td>\n",
       "      <td>(0.0, 0.1)</td>\n",
       "      <td>4.0</td>\n",
       "      <td>534.0</td>\n",
       "      <td>487.0</td>\n",
       "    </tr>\n",
       "  </tbody>\n",
       "</table>\n",
       "</div>"
      ],
      "text/plain": [
       "       0           1    2      3      4\n",
       "0    NaN        None  NaN    NaN    NaN\n",
       "1  200.0  (0.0, 0.1)  3.0  648.0  572.0\n",
       "2  200.0  (0.0, 0.1)  4.0  534.0  487.0"
      ]
     },
     "execution_count": 123,
     "metadata": {},
     "output_type": "execute_result"
    }
   ],
   "source": [
    "df.head(3)"
   ]
  },
  {
   "cell_type": "code",
   "execution_count": 125,
   "id": "adapted-conditioning",
   "metadata": {},
   "outputs": [
    {
     "data": {
      "text/html": [
       "<div>\n",
       "<style scoped>\n",
       "    .dataframe tbody tr th:only-of-type {\n",
       "        vertical-align: middle;\n",
       "    }\n",
       "\n",
       "    .dataframe tbody tr th {\n",
       "        vertical-align: top;\n",
       "    }\n",
       "\n",
       "    .dataframe thead th {\n",
       "        text-align: right;\n",
       "    }\n",
       "</style>\n",
       "<table border=\"1\" class=\"dataframe\">\n",
       "  <thead>\n",
       "    <tr style=\"text-align: right;\">\n",
       "      <th></th>\n",
       "      <th>0</th>\n",
       "      <th>1</th>\n",
       "      <th>2</th>\n",
       "      <th>3</th>\n",
       "      <th>4</th>\n",
       "    </tr>\n",
       "  </thead>\n",
       "  <tbody>\n",
       "    <tr>\n",
       "      <th>168</th>\n",
       "      <td>5000.0</td>\n",
       "      <td>(0.0, 0.5)</td>\n",
       "      <td>18.0</td>\n",
       "      <td>749.0</td>\n",
       "      <td>501.0</td>\n",
       "    </tr>\n",
       "    <tr>\n",
       "      <th>169</th>\n",
       "      <td>5000.0</td>\n",
       "      <td>(0.0, 0.5)</td>\n",
       "      <td>19.0</td>\n",
       "      <td>739.0</td>\n",
       "      <td>468.0</td>\n",
       "    </tr>\n",
       "    <tr>\n",
       "      <th>170</th>\n",
       "      <td>5000.0</td>\n",
       "      <td>(0.0, 0.5)</td>\n",
       "      <td>20.0</td>\n",
       "      <td>703.0</td>\n",
       "      <td>447.0</td>\n",
       "    </tr>\n",
       "  </tbody>\n",
       "</table>\n",
       "</div>"
      ],
      "text/plain": [
       "          0           1     2      3      4\n",
       "168  5000.0  (0.0, 0.5)  18.0  749.0  501.0\n",
       "169  5000.0  (0.0, 0.5)  19.0  739.0  468.0\n",
       "170  5000.0  (0.0, 0.5)  20.0  703.0  447.0"
      ]
     },
     "execution_count": 125,
     "metadata": {},
     "output_type": "execute_result"
    }
   ],
   "source": [
    "df.tail(3)"
   ]
  },
  {
   "cell_type": "code",
   "execution_count": 124,
   "id": "valuable-transportation",
   "metadata": {},
   "outputs": [
    {
     "name": "stdout",
     "output_type": "stream",
     "text": [
      "<class 'pandas.core.frame.DataFrame'>\n",
      "RangeIndex: 171 entries, 0 to 170\n",
      "Data columns (total 5 columns):\n",
      " #   Column  Non-Null Count  Dtype  \n",
      "---  ------  --------------  -----  \n",
      " 0   0       162 non-null    float64\n",
      " 1   1       162 non-null    object \n",
      " 2   2       162 non-null    float64\n",
      " 3   3       162 non-null    float64\n",
      " 4   4       162 non-null    float64\n",
      "dtypes: float64(4), object(1)\n",
      "memory usage: 6.8+ KB\n"
     ]
    }
   ],
   "source": [
    "df.info()"
   ]
  },
  {
   "cell_type": "code",
   "execution_count": null,
   "id": "listed-customs",
   "metadata": {},
   "outputs": [],
   "source": [
    "# visualization with matplotlib\n",
    "import matplotlib.pyplot as plt\n",
    "\n"
   ]
  }
 ],
 "metadata": {
  "kernelspec": {
   "display_name": "Python 3",
   "language": "python",
   "name": "python3"
  },
  "language_info": {
   "codemirror_mode": {
    "name": "ipython",
    "version": 3
   },
   "file_extension": ".py",
   "mimetype": "text/x-python",
   "name": "python",
   "nbconvert_exporter": "python",
   "pygments_lexer": "ipython3",
   "version": "3.8.8"
  }
 },
 "nbformat": 4,
 "nbformat_minor": 5
}
