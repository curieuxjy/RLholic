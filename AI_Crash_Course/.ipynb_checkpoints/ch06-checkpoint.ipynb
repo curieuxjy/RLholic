{
 "cells": [
  {
   "cell_type": "markdown",
   "id": "crazy-malaysia",
   "metadata": {},
   "source": [
    "# AI for Sales & Advertizing - Sell like the Wolf of AI Street"
   ]
  },
  {
   "cell_type": "code",
   "execution_count": 1,
   "id": "italic-rainbow",
   "metadata": {},
   "outputs": [],
   "source": [
    "import numpy as np\n",
    "import matplotlib.pyplot as plt\n",
    "import random"
   ]
  },
  {
   "cell_type": "markdown",
   "id": "ddbdecf4-0102-48dc-9f86-b3f5de37c287",
   "metadata": {},
   "source": [
    "고객이 10000명이고 광고의 종류는 9개가 있다."
   ]
  },
  {
   "cell_type": "code",
   "execution_count": 2,
   "id": "curious-memphis",
   "metadata": {},
   "outputs": [],
   "source": [
    "N = 10000\n",
    "d = 9 # strategy 9"
   ]
  },
  {
   "cell_type": "code",
   "execution_count": 3,
   "id": "aerial-electronics",
   "metadata": {},
   "outputs": [],
   "source": [
    "# 고객들의 광고 전략에 대한 반응 환경 구성\n",
    "conversion_rates = [0.05, 0.13, 0.09, 0.16, 0.11, 0.04, 0.20, 0.08, 0.01]\n",
    "X = np.array(np.zeros([N, d]))\n",
    "for i in range(N):\n",
    "    for j in range(d):\n",
    "        if np.random.rand() <= conversion_rates[j]:\n",
    "            X[i, j] = 1"
   ]
  },
  {
   "cell_type": "markdown",
   "id": "c5876bf0-9c83-444d-8246-dbf500dc939f",
   "metadata": {},
   "source": [
    "광고를 랜덤으로 보여줬을 때와 톰슨 샘플링으로 전략을 세워 보여주었을 때의 비교를 위해 각각 변수를 만들어준다."
   ]
  },
  {
   "cell_type": "code",
   "execution_count": 20,
   "id": "flush-virtue",
   "metadata": {},
   "outputs": [],
   "source": [
    "strategies_selected_rs = [] # random\n",
    "strategies_selected_ts = [] # thompson\n",
    "total_reward_rs = 0\n",
    "total_reward_ts = 0\n",
    "numbers_of_rewards_1 = [0] * d\n",
    "numbers_of_rewards_0 = [0] * d"
   ]
  },
  {
   "cell_type": "markdown",
   "id": "5bc1c97f-fe02-4691-b94a-cbea8c9e9048",
   "metadata": {},
   "source": [
    "랜덤 전략 part\n",
    "\n",
    "```python\n",
    "for n in range(0, N):\n",
    "    # random sampling\n",
    "    strategy_rs = random.randrange(d)\n",
    "    strategies_selected_rs.append(strategy_rs)\n",
    "    reward_rs = X[n, strategy_rs]\n",
    "    total_reward_rs = total_reward_rs + reward_rs\n",
    "```"
   ]
  },
  {
   "cell_type": "markdown",
   "id": "31251ddc-50d6-431d-b5bf-466d7307045e",
   "metadata": {},
   "source": [
    "톰슨 샘플링 전략 part\n",
    "\n",
    "```python\n",
    "strategy_ts = 0\n",
    "max_random = 0\n",
    "for i in range(0, d):\n",
    "    # beta distribution\n",
    "    random_beta = random.betavariate(numbers_of_rewards_1[i] +1,\n",
    "                                     numbers_of_rewards_0[i] +1)\n",
    "    if random_beta > max_random:\n",
    "        max_random = random_beta\n",
    "        strategy_ts = i # select the best strategy\n",
    "        \n",
    "    print(X)\n",
    "    reward_ts = X[i, strategies_selected_ts]\n",
    "    print(reward_ts)\n",
    "    \n",
    "    if reward_ts == 1:\n",
    "        numbers_of_rewards_1[strategy_ts] = numbers_of_rewards_1[strategy_ts] + 1\n",
    "    else:\n",
    "        numbers_of_rewards_0[strategy_ts] = numbers_of_rewards_0[strategy_ts] + 1\n",
    "        \n",
    "    strategies_selected_ts.append(strategy_ts)\n",
    "    total_reward_ts = total_reward_ts + reward_ts\n",
    "```"
   ]
  },
  {
   "cell_type": "code",
   "execution_count": 21,
   "id": "65d97c60-8bb0-4d9b-8804-112e5a2183ba",
   "metadata": {},
   "outputs": [],
   "source": [
    "global total_reward_ts, total_reward_rs\n",
    "for n in range(0, N):\n",
    "    # Random Selection\n",
    "    strategy_rs = random.randrange(d)\n",
    "    strategies_selected_rs.append(strategy_rs)\n",
    "    reward_rs = X[n, strategy_rs]\n",
    "    total_reward_rs = total_reward_rs + reward_rs\n",
    "    # Thompson Sampling\n",
    "    strategy_ts = 0\n",
    "    max_random = 0\n",
    "    for i in range(0, d):\n",
    "        random_beta = random.betavariate(numbers_of_rewards_1[i] + 1, numbers_of_rewards_0[i] + 1)\n",
    "        if random_beta > max_random:\n",
    "            max_random = random_beta\n",
    "            strategy_ts = i\n",
    "    reward_ts = X[n, strategy_ts]\n",
    "    if reward_ts == 1:\n",
    "        numbers_of_rewards_1[strategy_ts] = numbers_of_rewards_1[strategy_ts] + 1\n",
    "    else:\n",
    "        numbers_of_rewards_0[strategy_ts] = numbers_of_rewards_0[strategy_ts] + 1\n",
    "    strategies_selected_ts.append(strategy_ts)\n",
    "    total_reward_ts = total_reward_ts + reward_ts"
   ]
  },
  {
   "cell_type": "code",
   "execution_count": 23,
   "id": "hearing-helen",
   "metadata": {},
   "outputs": [
    {
     "name": "stdout",
     "output_type": "stream",
     "text": [
      "Relative Return: 94%\n",
      "951.0\n",
      "1849.0\n",
      "94.42691903259727\n"
     ]
    },
    {
     "data": {
      "image/png": "[encoded data removed]",
      "text/plain": [
       "<Figure size 432x288 with 1 Axes>"
      ]
     },
     "metadata": {
      "needs_background": "light"
     },
     "output_type": "display_data"
    }
   ],
   "source": [
    "# Computing the Relative Return\n",
    "relative_return = (total_reward_ts - total_reward_rs) / total_reward_rs * 100\n",
    "\n",
    "print(\"Relative Return: {:.0f}%\".format(relative_return))\n",
    "print(total_reward_rs)\n",
    "print(total_reward_ts)\n",
    "print(relative_return)\n",
    "\n",
    "# Plotting the Histogram of Selections\n",
    "plt.hist(strategies_selected_ts)\n",
    "plt.title('Histogram of Selections')\n",
    "plt.xlabel('Strategy')\n",
    "plt.ylabel('Number of times the strategy was selected')\n",
    "plt.show()"
   ]
  }
 ],
 "metadata": {
  "kernelspec": {
   "display_name": "Python 3",
   "language": "python",
   "name": "python3"
  },
  "language_info": {
   "codemirror_mode": {
    "name": "ipython",
    "version": 3
   },
   "file_extension": ".py",
   "mimetype": "text/x-python",
   "name": "python",
   "nbconvert_exporter": "python",
   "pygments_lexer": "ipython3",
   "version": "3.8.8"
  }
 },
 "nbformat": 4,
 "nbformat_minor": 5
}
