{
 "cells": [
  {
   "cell_type": "markdown",
   "id": "8d30012d-1b7d-44ae-a7e6-bd419b2b5b44",
   "metadata": {},
   "source": [
    "# AI for Logistics - Robots in a warehouse"
   ]
  },
  {
   "cell_type": "markdown",
   "id": "a185849a-5776-40a1-9366-037edea60545",
   "metadata": {},
   "source": [
    "```\n",
    "┌─────────────────────────────┬────────\n",
    "│                             │\n",
    "│    A         B         C    │    D\n",
    "│                             │\n",
    "└─────────┐         \n",
    "          │         │                  │\n",
    "     E    │    F    │    G         H   │\n",
    "          │         │                  │\n",
    "                    └─────────         │\n",
    "│                                      │\n",
    "│    I         J         K         L   │\n",
    "│                                      │\n",
    "└───────────────────           ────────┘\n",
    "\n",
    "```\n",
    "\n",
    "|rank|location|\n",
    "|-|-|\n",
    "|1|G|\n",
    "|2|K|\n",
    "|3|L|\n",
    "|4|J|\n",
    "|5|A|\n",
    "|6|I|\n",
    "|7|H|\n",
    "|8|C|\n",
    "|9|B|\n",
    "|10|D|\n",
    "|11|F|\n",
    "|12|E|\n",
    "\n",
    "> goal : 시작위치에 상관없이 rank 1에 해당하는 G로 가는 최단 경로를 선택하고 그 경로 중간에 rank 1~3이 있는 옵션을 갖춘 AI 만들기"
   ]
  },
  {
   "cell_type": "markdown",
   "id": "426978cb-4fa7-41dd-b071-7ff8261dfca5",
   "metadata": {},
   "source": [
    "|location|state|\n",
    "|-|-|\n",
    "|A|0|\n",
    "|B|1|\n",
    "|C|2|\n",
    "|D|3|\n",
    "|E|4|\n",
    "|F|5|\n",
    "|G|6|\n",
    "|H|7|\n",
    "|I|8|\n",
    "|J|9|\n",
    "|K|10|\n",
    "|L|11|\n",
    "\n",
    "```python\n",
    "actions = [0, 1, 2, 3, 4, 5, 6, 7, 8, 9, 10, 11]\n",
    "```\n",
    "\n",
    "보상행렬\n",
    "\n",
    "||A|B|C|D|E|F|G|H|I|J|K|L|\n",
    "|-|-|-|-|-|-|-|-|-|-|-|-|-|\n",
    "|A|0|1|0|0|0|0|0|0|0|0|0|0|\n",
    "|B|1|0|1|0|0|1|0|0|0|0|0|0|\n",
    "|C|0|1|0|0|0|0|1|0|0|0|0|0|\n",
    "|D|0|0|0|0|0|0|0|1|0|0|0|0|\n",
    "|E|0|0|0|0|0|0|0|0|1|0|0|0|\n",
    "|F|0|1|0|0|0|0|0|0|0|1|0|0|\n",
    "|G|0|0|1|0|0|0|0|1|0|0|0|0|\n",
    "|H|0|0|0|1|0|0|1|0|0|0|0|1|\n",
    "|I|0|0|0|0|1|0|0|0|0|1|0|0|\n",
    "|J|0|0|0|0|0|1|0|0|1|0|1|0|\n",
    "|K|0|0|0|0|0|0|0|0|0|1|0|1|\n",
    "|L|0|0|0|0|0|0|0|1|0|0|1|0|"
   ]
  },
  {
   "cell_type": "code",
   "execution_count": 1,
   "id": "8ac015e5-d398-45c3-978c-64d53e5f4c1a",
   "metadata": {},
   "outputs": [],
   "source": [
    "import numpy as np"
   ]
  },
  {
   "cell_type": "code",
   "execution_count": 2,
   "id": "e49b829a-673c-4204-9072-12c693a75135",
   "metadata": {},
   "outputs": [],
   "source": [
    "gamma = 0.75\n",
    "alpha = 0.9"
   ]
  },
  {
   "cell_type": "code",
   "execution_count": 18,
   "id": "d95b274e-0833-40c5-9337-f71943355072",
   "metadata": {},
   "outputs": [],
   "source": [
    "# Environment\n",
    "location_to_state = {\"A\": 0,\n",
    "                     \"B\": 1,\n",
    "                     \"C\": 2,\n",
    "                     \"D\": 3,\n",
    "                     \"E\": 4,\n",
    "                     \"F\": 5,\n",
    "                     \"G\": 6,\n",
    "                     \"H\": 7,\n",
    "                     \"I\": 8,\n",
    "                     \"J\": 9,\n",
    "                     \"K\": 10,\n",
    "                     \"L\": 11}\n",
    "\n",
    "actions = [0, 1, 2, 3, 4, 5, 6, 7, 8, 9, 10, 11]\n",
    "\n",
    "# 수작업으로 보상행렬 업데이트\n",
    "\n",
    "# Defining the rewards\n",
    "R = np.array([[0,1,0,0,0,0,0,0,0,0,0,0],\n",
    "              [1,0,1,0,0,1,0,0,0,0,0,0],\n",
    "              [0,1,0,0,0,0,1,0,0,0,0,0],\n",
    "              [0,0,0,0,0,0,0,1,0,0,0,0],\n",
    "              [0,0,0,0,0,0,0,0,1,0,0,0],\n",
    "              [0,1,0,0,0,0,0,0,0,1,0,0],\n",
    "              [0,0,1,0,0,0,1000,1,0,0,0,0],\n",
    "              [0,0,0,1,0,0,1,0,0,0,0,1],\n",
    "              [0,0,0,0,1,0,0,0,0,1,0,0],\n",
    "              [0,0,0,0,0,1,0,0,1,0,1,0],\n",
    "              [0,0,0,0,0,0,0,0,0,1,0,1],\n",
    "              [0,0,0,0,0,0,0,1,0,0,1,0]])"
   ]
  },
  {
   "cell_type": "code",
   "execution_count": 19,
   "id": "a4bf5beb-66c6-4cc8-a2b7-7a7e9068fa73",
   "metadata": {},
   "outputs": [],
   "source": [
    "# AI solution by Q-learning\n",
    "Q = np.array(np.zeros([12,12]))\n",
    "\n",
    "for i in range(1000):\n",
    "    current_state = np.random.randint(0,12)\n",
    "#     print(i)\n",
    "    playable_actions = []\n",
    "    for j in range(12):\n",
    "        if R[current_state, j]>0:\n",
    "            playable_actions.append(j)\n",
    "            \n",
    "    # do action and go to next state\n",
    "    next_state = np.random.choice(playable_actions)\n",
    "    # calculate TD\n",
    "    TD = R[current_state, next_state] + gamma * Q[next_state, np.argmax(Q[next_state, ])] - Q[current_state, next_state]\n",
    "    # update Q\n",
    "    Q[current_state, next_state] = Q[current_state, next_state] + alpha * TD"
   ]
  },
  {
   "cell_type": "code",
   "execution_count": 20,
   "id": "450b285c-8a27-4474-bb04-05ffd84f8bc2",
   "metadata": {},
   "outputs": [
    {
     "name": "stdout",
     "output_type": "stream",
     "text": [
      "Q-values: \n",
      "[[   0 1688    0    0    0    0    0    0    0    0    0    0]\n",
      " [1267    0 2250    0    0 1267    0    0    0    0    0    0]\n",
      " [   0 1688    0    0    0    0 3000    0    0    0    0    0]\n",
      " [   0    0    0    0    0    0    0 2250    0    0    0    0]\n",
      " [   0    0    0    0    0    0    0    0  714    0    0    0]\n",
      " [   0 1688    0    0    0    0    0    0    0  951    0    0]\n",
      " [   0    0 2250    0    0    0 3999 2250    0    0    0    0]\n",
      " [   0    0    0 1687    0    0 2999    0    0    0    0 1688]\n",
      " [   0    0    0    0  536    0    0    0    0  951    0    0]\n",
      " [   0    0    0    0    0 1267    0    0  714    0 1264    0]\n",
      " [   0    0    0    0    0    0    0    0    0  951    0 1688]\n",
      " [   0    0    0    0    0    0    0 2250    0    0 1264    0]]\n"
     ]
    }
   ],
   "source": [
    "print(\"Q-values: \")\n",
    "print(Q.astype(int))"
   ]
  },
  {
   "cell_type": "code",
   "execution_count": 25,
   "id": "e2cc6c68-4f17-4f30-b78f-5f6d7ef264e3",
   "metadata": {},
   "outputs": [
    {
     "data": {
      "image/png": "[encoded data removed]",
      "text/plain": [
       "<Figure size 432x288 with 2 Axes>"
      ]
     },
     "metadata": {
      "needs_background": "light"
     },
     "output_type": "display_data"
    }
   ],
   "source": [
    "import seaborn as sns\n",
    "ax = sns.heatmap(Q, cmap=\"YlGnBu\")"
   ]
  },
  {
   "cell_type": "code",
   "execution_count": 26,
   "id": "42bb9bd2-7f40-4eb7-910c-8e7f03e42b10",
   "metadata": {},
   "outputs": [],
   "source": [
    "# Inference\n",
    "state_to_location = {state: location for location, state in location_to_state.items()}"
   ]
  },
  {
   "cell_type": "code",
   "execution_count": 27,
   "id": "65a7603c-8a37-4e26-bddd-6f4963a752df",
   "metadata": {},
   "outputs": [],
   "source": [
    "def route(starting_location, ending_location):\n",
    "    route = [starting_location]\n",
    "    next_location = starting_location\n",
    "    while ( next_location != ending_location ):\n",
    "        starting_state = location_to_state[starting_location]\n",
    "        next_state = np.argmax(Q[starting_state,])\n",
    "        next_location = state_to_location[next_state]\n",
    "        route.append(next_location)\n",
    "        starting_location = next_location\n",
    "    return route"
   ]
  },
  {
   "cell_type": "code",
   "execution_count": 28,
   "id": "c60929f4-7fc9-4e40-b7b6-6b7b4887b725",
   "metadata": {},
   "outputs": [
    {
     "name": "stdout",
     "output_type": "stream",
     "text": [
      "Route: \n",
      "['E', 'I', 'J', 'F', 'B', 'C', 'G']\n"
     ]
    }
   ],
   "source": [
    "print(\"Route: \")\n",
    "print(route(\"E\", \"G\"))"
   ]
  },
  {
   "cell_type": "markdown",
   "id": "3b13122f-a584-4e4d-aabd-363b2dbd5ba9",
   "metadata": {},
   "source": [
    "## development : 보상 부여 자동화"
   ]
  },
  {
   "cell_type": "code",
   "execution_count": 29,
   "id": "9ed46cb7-7d9d-49af-be40-18a75896596e",
   "metadata": {},
   "outputs": [],
   "source": [
    "location_to_state = {\"A\": 0,\n",
    "                     \"B\": 1,\n",
    "                     \"C\": 2,\n",
    "                     \"D\": 3,\n",
    "                     \"E\": 4,\n",
    "                     \"F\": 5,\n",
    "                     \"G\": 6,\n",
    "                     \"H\": 7,\n",
    "                     \"I\": 8,\n",
    "                     \"J\": 9,\n",
    "                     \"K\": 10,\n",
    "                     \"L\": 11}\n",
    "\n",
    "actions = [0, 1, 2, 3, 4, 5, 6, 7, 8, 9, 10, 11]\n",
    "\n",
    "# 수작업으로 보상행렬 업데이트\n",
    "\n",
    "# Defining the rewards\n",
    "R = np.array([[0,1,0,0,0,0,0,0,0,0,0,0],\n",
    "              [1,0,1,0,0,1,0,0,0,0,0,0],\n",
    "              [0,1,0,0,0,0,1,0,0,0,0,0],\n",
    "              [0,0,0,0,0,0,0,1,0,0,0,0],\n",
    "              [0,0,0,0,0,0,0,0,1,0,0,0],\n",
    "              [0,1,0,0,0,0,0,0,0,1,0,0],\n",
    "              [0,0,1,0,0,0,1,1,0,0,0,0],\n",
    "              [0,0,0,1,0,0,1,0,0,0,0,1],\n",
    "              [0,0,0,0,1,0,0,0,0,1,0,0],\n",
    "              [0,0,0,0,0,1,0,0,1,0,1,0],\n",
    "              [0,0,0,0,0,0,0,0,0,1,0,1],\n",
    "              [0,0,0,0,0,0,0,1,0,0,1,0]])"
   ]
  },
  {
   "cell_type": "code",
   "execution_count": 31,
   "id": "a5d2b31d-d3c5-42a3-a82a-2ccd04d93678",
   "metadata": {},
   "outputs": [],
   "source": [
    "def route2(starting_location, ending_location):\n",
    "    #-------different-------\n",
    "    R_new = np.copy(R)\n",
    "    ending_state = location_to_state[ending_location]\n",
    "    R_new[ending_state, ending_state] = 1000\n",
    "    #-----------------------\n",
    "    \n",
    "    Q = np.array(np.zeros([12,12]))\n",
    "\n",
    "    for i in range(1000):\n",
    "        current_state = np.random.randint(0,12)\n",
    "\n",
    "        playable_actions = []\n",
    "        for j in range(12):\n",
    "            #-------different-------\n",
    "            if R_new[current_state, j]>0:\n",
    "                playable_actions.append(j)\n",
    "\n",
    "        # do action and go to next state\n",
    "        next_state = np.random.choice(playable_actions)\n",
    "        #-------different-------\n",
    "        # calculate TD\n",
    "        TD = R_new[current_state, next_state] + gamma * Q[next_state, np.argmax(Q[next_state, ])] - Q[current_state, next_state]\n",
    "        # update Q\n",
    "        Q[current_state, next_state] = Q[current_state, next_state] + alpha * TD \n",
    "    \n",
    "    route = [starting_location]\n",
    "    next_location = starting_location\n",
    "    while ( next_location != ending_location ):\n",
    "        starting_state = location_to_state[starting_location]\n",
    "        next_state = np.argmax(Q[starting_state,])\n",
    "        next_location = state_to_location[next_state]\n",
    "        route.append(next_location)\n",
    "        starting_location = next_location\n",
    "    return route"
   ]
  },
  {
   "cell_type": "code",
   "execution_count": 32,
   "id": "ea0223d4-9163-4a03-94e7-b339a26c432b",
   "metadata": {},
   "outputs": [
    {
     "name": "stdout",
     "output_type": "stream",
     "text": [
      "Route: \n",
      "['E', 'I', 'J', 'F', 'B', 'C', 'G']\n"
     ]
    }
   ],
   "source": [
    "print(\"Route: \")\n",
    "print(route2(\"E\", \"G\"))"
   ]
  },
  {
   "cell_type": "markdown",
   "id": "6e75e57e-667a-4ad6-ba40-ad0da039a942",
   "metadata": {},
   "source": [
    "## development : 중간 목표 추가"
   ]
  },
  {
   "cell_type": "code",
   "execution_count": null,
   "id": "4f13e19e-8322-4c16-b524-c5aee04c1860",
   "metadata": {},
   "outputs": [],
   "source": []
  }
 ],
 "metadata": {
  "kernelspec": {
   "display_name": "Python 3",
   "language": "python",
   "name": "python3"
  },
  "language_info": {
   "codemirror_mode": {
    "name": "ipython",
    "version": 3
   },
   "file_extension": ".py",
   "mimetype": "text/x-python",
   "name": "python",
   "nbconvert_exporter": "python",
   "pygments_lexer": "ipython3",
   "version": "3.8.8"
  }
 },
 "nbformat": 4,
 "nbformat_minor": 5
}
