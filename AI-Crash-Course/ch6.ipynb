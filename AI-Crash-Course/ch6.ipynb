{
 "cells": [
  {
   "cell_type": "markdown",
   "id": "crazy-malaysia",
   "metadata": {},
   "source": [
    "# AI for Sales & Advertizing - Sell like the Wolf of AI Street"
   ]
  },
  {
   "cell_type": "code",
   "execution_count": 1,
   "id": "italic-rainbow",
   "metadata": {},
   "outputs": [],
   "source": [
    "import numpy as np\n",
    "import matplotlib.pyplot as plt\n",
    "import random"
   ]
  },
  {
   "cell_type": "code",
   "execution_count": 2,
   "id": "curious-memphis",
   "metadata": {},
   "outputs": [],
   "source": [
    "N = 10000\n",
    "d = 9 # strategy 9"
   ]
  },
  {
   "cell_type": "code",
   "execution_count": 3,
   "id": "aerial-electronics",
   "metadata": {},
   "outputs": [],
   "source": [
    "# 고객들의 광고 전략에 대한 반응 환경 구성\n",
    "conversion_rates = [0.05, 0.13, 0.09, 0.16, 0.11, 0.04, 0.20, 0.08, 0.01]\n",
    "X = np.array(np.zeros([N, d]))\n",
    "for i in range(N):\n",
    "    for j in range(d):\n",
    "        if np.random.rand() <= conversion_rates[j]:\n",
    "            X[i, j] = 1"
   ]
  },
  {
   "cell_type": "code",
   "execution_count": 4,
   "id": "flush-virtue",
   "metadata": {},
   "outputs": [],
   "source": [
    "strategies_selected_rs = [] # random\n",
    "strategies_selected_ts = [] # thompson\n",
    "total_reward_rs = 0\n",
    "total_reward_ts = 0\n",
    "numbers_of_rewards_1 = [0] * d\n",
    "numbers_of_rewards_0 = [0] * d"
   ]
  },
  {
   "cell_type": "code",
   "execution_count": 5,
   "id": "significant-sheffield",
   "metadata": {},
   "outputs": [],
   "source": [
    "for n in range(0, N):\n",
    "    # random sampling\n",
    "    strategy_rs = random.randrange(d)\n",
    "    strategies_selected_rs.append(strategy_rs)\n",
    "    reward_rs = X[n, strategy_rs]\n",
    "    total_reward_rs = total_reward_rs + reward_rs"
   ]
  },
  {
   "cell_type": "code",
   "execution_count": 12,
   "id": "continued-exhibition",
   "metadata": {},
   "outputs": [
    {
     "ename": "ValueError",
     "evalue": "The truth value of an array with more than one element is ambiguous. Use a.any() or a.all()",
     "output_type": "error",
     "traceback": [
      "\u001b[1;31m---------------------------------------------------------------------------\u001b[0m",
      "\u001b[1;31mValueError\u001b[0m                                Traceback (most recent call last)",
      "\u001b[1;32m<ipython-input-12-4e0f03202cda>\u001b[0m in \u001b[0;36m<module>\u001b[1;34m\u001b[0m\n\u001b[0;32m     11\u001b[0m     \u001b[0mreward_ts\u001b[0m \u001b[1;33m=\u001b[0m \u001b[0mX\u001b[0m\u001b[1;33m[\u001b[0m\u001b[0mn\u001b[0m\u001b[1;33m,\u001b[0m \u001b[0mstrategies_selected_ts\u001b[0m\u001b[1;33m]\u001b[0m\u001b[1;33m\u001b[0m\u001b[1;33m\u001b[0m\u001b[0m\n\u001b[0;32m     12\u001b[0m \u001b[1;33m\u001b[0m\u001b[0m\n\u001b[1;32m---> 13\u001b[1;33m     \u001b[1;32mif\u001b[0m \u001b[0mreward_ts\u001b[0m \u001b[1;33m==\u001b[0m \u001b[1;36m1\u001b[0m\u001b[1;33m:\u001b[0m\u001b[1;33m\u001b[0m\u001b[1;33m\u001b[0m\u001b[0m\n\u001b[0m\u001b[0;32m     14\u001b[0m         \u001b[0mnumbers_of_rewards_1\u001b[0m\u001b[1;33m[\u001b[0m\u001b[0mstrategy_ts\u001b[0m\u001b[1;33m]\u001b[0m \u001b[1;33m=\u001b[0m \u001b[0mnumbers_of_rewards_1\u001b[0m\u001b[1;33m[\u001b[0m\u001b[0mstrategy_ts\u001b[0m\u001b[1;33m]\u001b[0m \u001b[1;33m+\u001b[0m \u001b[1;36m1\u001b[0m\u001b[1;33m\u001b[0m\u001b[1;33m\u001b[0m\u001b[0m\n\u001b[0;32m     15\u001b[0m     \u001b[1;32melse\u001b[0m\u001b[1;33m:\u001b[0m\u001b[1;33m\u001b[0m\u001b[1;33m\u001b[0m\u001b[0m\n",
      "\u001b[1;31mValueError\u001b[0m: The truth value of an array with more than one element is ambiguous. Use a.any() or a.all()"
     ]
    }
   ],
   "source": [
    "strategy_ts = 0\n",
    "max_random = 0\n",
    "for i in range(0, d):\n",
    "    # beta distribution\n",
    "    random_beta = random.betavariate(numbers_of_rewards_1[i] +1,\n",
    "                                     numbers_of_rewards_0[i] +1)\n",
    "    if random_beta > max_random:\n",
    "        max_random = random_beta\n",
    "        strategy_ts = i # select the best strategy\n",
    "        \n",
    "    reward_ts = X[n, strategies_selected_ts]\n",
    "    \n",
    "    if reward_ts == 1:\n",
    "        numbers_of_rewards_1[strategy_ts] = numbers_of_rewards_1[strategy_ts] + 1\n",
    "    else:\n",
    "        numbers_of_rewards_0[strategy_ts] = numbers_of_rewards_0[strategy_ts] + 1\n",
    "        \n",
    "    strategies_selected_ts.append(strategy_ts)\n",
    "    total_reward_ts = total_reward_ts + reward_ts"
   ]
  },
  {
   "cell_type": "code",
   "execution_count": 11,
   "id": "hearing-helen",
   "metadata": {},
   "outputs": [
    {
     "data": {
      "text/plain": [
       "array([0., 0., 0.])"
      ]
     },
     "execution_count": 11,
     "metadata": {},
     "output_type": "execute_result"
    }
   ],
   "source": [
    "reward_ts"
   ]
  },
  {
   "cell_type": "code",
   "execution_count": null,
   "id": "reliable-makeup",
   "metadata": {},
   "outputs": [],
   "source": [
    "    # comparison"
   ]
  }
 ],
 "metadata": {
  "kernelspec": {
   "display_name": "Python 3",
   "language": "python",
   "name": "python3"
  },
  "language_info": {
   "codemirror_mode": {
    "name": "ipython",
    "version": 3
   },
   "file_extension": ".py",
   "mimetype": "text/x-python",
   "name": "python",
   "nbconvert_exporter": "python",
   "pygments_lexer": "ipython3",
   "version": "3.8.8"
  }
 },
 "nbformat": 4,
 "nbformat_minor": 5
}
